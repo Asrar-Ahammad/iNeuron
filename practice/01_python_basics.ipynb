{
 "cells": [
  {
   "cell_type": "code",
   "execution_count": 5,
   "metadata": {},
   "outputs": [
    {
     "name": "stdout",
     "output_type": "stream",
     "text": [
      "25.0 is greater\n"
     ]
    }
   ],
   "source": [
    "num1= float(input(\"Enter a number :\"))\n",
    "num2= float(input(\"Enter a number :\"))\n",
    "num3= float(input(\"Enter a number :\"))\n",
    "\n",
    "if(num1 > num2 and num1>num3):\n",
    "    print(f\"{num1} is greater\")\n",
    "elif(num2>num1 and num2>num3):\n",
    "    print(f\"{num2} is greater\")\n",
    "else:\n",
    "    print(f\"{num3} is greater\")"
   ]
  },
  {
   "cell_type": "code",
   "execution_count": 7,
   "metadata": {},
   "outputs": [
    {
     "name": "stdout",
     "output_type": "stream",
     "text": [
      "Salary range : 60k-90k\n"
     ]
    }
   ],
   "source": [
    "designation = input('Enter Designation Executive/Manager/Senior Manager :')\n",
    "designation = designation.lower()\n",
    "if designation == 'executive':\n",
    "    print('Salary range : 30k-40k')\n",
    "elif designation == 'manager':\n",
    "    print('Salary range : 60k-90k')\n",
    "else:\n",
    "    print('Salary range : 120k-160k')"
   ]
  },
  {
   "cell_type": "code",
   "execution_count": 2,
   "metadata": {},
   "outputs": [
    {
     "name": "stdout",
     "output_type": "stream",
     "text": [
      "['Alice', 'Tom', 'Marry', 'James']\n",
      "[30000, 40000, 45000, 42000.0]\n"
     ]
    }
   ],
   "source": [
    "employee = ['Alice', 'Tom','Marry','James']\n",
    "salary = [30000,40000,45000,40000]\n",
    "for i in employee:\n",
    "    if i =='James':\n",
    "        salary[employee.index(i)] = salary[employee.index(i)]+(0.05*salary[employee.index(i)])\n",
    "print(employee)\n",
    "print(salary)"
   ]
  },
  {
   "cell_type": "code",
   "execution_count": 5,
   "metadata": {},
   "outputs": [
    {
     "data": {
      "text/plain": [
       "2"
      ]
     },
     "execution_count": 5,
     "metadata": {},
     "output_type": "execute_result"
    }
   ],
   "source": [
    "-23%5"
   ]
  },
  {
   "cell_type": "code",
   "execution_count": null,
   "metadata": {},
   "outputs": [],
   "source": []
  }
 ],
 "metadata": {
  "kernelspec": {
   "display_name": "TensorFlowPractice",
   "language": "python",
   "name": "python3"
  },
  "language_info": {
   "codemirror_mode": {
    "name": "ipython",
    "version": 3
   },
   "file_extension": ".py",
   "mimetype": "text/x-python",
   "name": "python",
   "nbconvert_exporter": "python",
   "pygments_lexer": "ipython3",
   "version": "3.10.11"
  },
  "orig_nbformat": 4
 },
 "nbformat": 4,
 "nbformat_minor": 2
}
