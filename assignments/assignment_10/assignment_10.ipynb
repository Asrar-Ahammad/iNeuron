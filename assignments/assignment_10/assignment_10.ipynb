{
 "cells": [
  {
   "attachments": {},
   "cell_type": "markdown",
   "metadata": {},
   "source": [
    "# Assignment-10 (17th June)"
   ]
  },
  {
   "attachments": {},
   "cell_type": "markdown",
   "metadata": {},
   "source": [
    "## 1. What is the role of try and exception block?\n",
    "The role of the try-except block in Python is to handle and manage exceptions that may occur during the execution of a block of code. It allows you to anticipate and gracefully handle potential errors or exceptional situations, preventing the program from abruptly terminating.\n",
    "\n",
    "The try-except block works as follows:\n",
    "\n",
    "1. The code that might raise an exception is enclosed within the try block.\n",
    "2. If an exception occurs within the try block, the execution of the try block is immediately halted.\n",
    "3. The program flow jumps to the corresponding except block that can handle the specific type of exception that occurred.\n",
    "4. The except block contains code to handle the exception. It can provide appropriate error messages, perform necessary cleanup operations, or take any other action required to handle the exceptional situation.\n",
    "5. Once the except block is executed, the program continues to run from the point immediately after the try-except block."
   ]
  },
  {
   "attachments": {},
   "cell_type": "markdown",
   "metadata": {},
   "source": [
    "## 2. What is the syntax for a basic try-except block?\n",
    "The syntax for a basic try-except block in Python is as follows"
   ]
  },
  {
   "cell_type": "code",
   "execution_count": null,
   "metadata": {},
   "outputs": [],
   "source": [
    "#Syntax\n",
    "try:\n",
    "    # Code that may raise an exception\n",
    "except ExceptionType:\n",
    "    # Code to handle the exception"
   ]
  },
  {
   "attachments": {},
   "cell_type": "markdown",
   "metadata": {},
   "source": [
    "In this syntax:\n",
    "\n",
    "* The code that might raise an exception is enclosed within the try block.\n",
    "If an exception occurs within the try block, the execution of the try block is immediately halted.\n",
    "* The program flow jumps to the corresponding except block that can handle the specific type of exception that occurred.\n",
    "* The ExceptionType in the except block is the type of exception that you want to catch and handle. It can be a built-in exception type or a custom exception class.\n",
    "* The except block contains code to handle the exception. This block will be executed only if the exception matches the specified ExceptionType.\n",
    "* You can have multiple except blocks to handle different types of exceptions. Each except block should handle a specific exception type.\n",
    "* It is also possible to have an optional else block after the except block, which will be executed if no exceptions occurred in the try block.\n",
    "* Additionally, you can use a finally block after the except block to specify code that should always be executed, regardless of whether an exception occurred or not.<br>\n",
    "Here's an example of a basic try-except block:"
   ]
  },
  {
   "cell_type": "code",
   "execution_count": 1,
   "metadata": {},
   "outputs": [
    {
     "name": "stdout",
     "output_type": "stream",
     "text": [
      "Error: Division by zero occurred!\n"
     ]
    }
   ],
   "source": [
    "try:\n",
    "    # Code that may raise an exception\n",
    "    result = 10 / 0  # This will raise a ZeroDivisionError\n",
    "except ZeroDivisionError:\n",
    "    # Code to handle the ZeroDivisionError\n",
    "    print(\"Error: Division by zero occurred!\")"
   ]
  },
  {
   "attachments": {},
   "cell_type": "markdown",
   "metadata": {},
   "source": [
    "## 3. What happens if an exception occurs inside a try block and there is no matching except block?\n",
    "Ans) If an exception occurs inside a try block and there is no matching except block to handle that specific exception type, the exception will propagate to the surrounding higher-level try-except blocks to see if any of them can handle the exception. If no matching except block is found in any of the higher-level try-except blocks, the exception will continue to propagate further until it reaches the top-level of the program.\n",
    "\n",
    "If the exception reaches the top-level without being caught and handled, the program will terminate and display an error message (known as an unhandled exception). The error message typically includes information about the type of exception, the line number where the exception occurred, and a traceback showing the sequence of function calls that led to the exception.\n",
    "\n",
    "It is important to have appropriate exception handling in place to catch and handle exceptions effectively, especially for exceptions that are expected or known to occur in your code. This helps prevent the program from crashing and allows for graceful handling of errors and exceptional situations."
   ]
  },
  {
   "attachments": {},
   "cell_type": "markdown",
   "metadata": {},
   "source": [
    "## 4. What is the difference between using a bare except block and specifying a specific exception type?\n",
    "The difference between using a bare except block and specifying a specific exception type lies in the scope of exceptions that are caught and handled.\n",
    "\n",
    "Bare Except Block:\n",
    "A bare except block, also known as a generic except block, is written as except: without specifying any particular exception type. It catches and handles all types of exceptions that may occur in the corresponding try block. It acts as a catch-all for any exception that is raised.\n",
    "Example:\n",
    "    ```shell\n",
    "    try:\n",
    "    # Code that may raise an exception\n",
    "    except:\n",
    "        # Code to handle the exception\n"
   ]
  },
  {
   "cell_type": "code",
   "execution_count": null,
   "metadata": {},
   "outputs": [],
   "source": []
  }
 ],
 "metadata": {
  "kernelspec": {
   "display_name": "TensorFlowPractice",
   "language": "python",
   "name": "python3"
  },
  "language_info": {
   "codemirror_mode": {
    "name": "ipython",
    "version": 3
   },
   "file_extension": ".py",
   "mimetype": "text/x-python",
   "name": "python",
   "nbconvert_exporter": "python",
   "pygments_lexer": "ipython3",
   "version": "3.10.11"
  },
  "orig_nbformat": 4
 },
 "nbformat": 4,
 "nbformat_minor": 2
}
