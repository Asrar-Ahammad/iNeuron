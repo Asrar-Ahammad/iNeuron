{
 "cells": [
  {
   "attachments": {},
   "cell_type": "markdown",
   "metadata": {},
   "source": [
    "# Assignment-10 (17th June)"
   ]
  },
  {
   "attachments": {},
   "cell_type": "markdown",
   "metadata": {},
   "source": [
    "## 1. What is the role of try and exception block?\n",
    "The role of the try-except block in Python is to handle and manage exceptions that may occur during the execution of a block of code. It allows you to anticipate and gracefully handle potential errors or exceptional situations, preventing the program from abruptly terminating.\n",
    "\n",
    "The try-except block works as follows:\n",
    "\n",
    "1. The code that might raise an exception is enclosed within the try block.\n",
    "2. If an exception occurs within the try block, the execution of the try block is immediately halted.\n",
    "3. The program flow jumps to the corresponding except block that can handle the specific type of exception that occurred.\n",
    "4. The except block contains code to handle the exception. It can provide appropriate error messages, perform necessary cleanup operations, or take any other action required to handle the exceptional situation.\n",
    "5. Once the except block is executed, the program continues to run from the point immediately after the try-except block."
   ]
  },
  {
   "attachments": {},
   "cell_type": "markdown",
   "metadata": {},
   "source": [
    "## 2. What is the syntax for a basic try-except block?\n",
    "The syntax for a basic try-except block in Python is as follows"
   ]
  },
  {
   "cell_type": "code",
   "execution_count": null,
   "metadata": {},
   "outputs": [],
   "source": [
    "#Syntax\n",
    "try:\n",
    "    # Code that may raise an exception\n",
    "except ExceptionType:\n",
    "    # Code to handle the exception"
   ]
  },
  {
   "attachments": {},
   "cell_type": "markdown",
   "metadata": {},
   "source": [
    "In this syntax:\n",
    "\n",
    "* The code that might raise an exception is enclosed within the try block.\n",
    "If an exception occurs within the try block, the execution of the try block is immediately halted.\n",
    "* The program flow jumps to the corresponding except block that can handle the specific type of exception that occurred.\n",
    "* The ExceptionType in the except block is the type of exception that you want to catch and handle. It can be a built-in exception type or a custom exception class.\n",
    "* The except block contains code to handle the exception. This block will be executed only if the exception matches the specified ExceptionType.\n",
    "* You can have multiple except blocks to handle different types of exceptions. Each except block should handle a specific exception type.\n",
    "* It is also possible to have an optional else block after the except block, which will be executed if no exceptions occurred in the try block.\n",
    "* Additionally, you can use a finally block after the except block to specify code that should always be executed, regardless of whether an exception occurred or not.<br>\n",
    "Here's an example of a basic try-except block:"
   ]
  },
  {
   "cell_type": "code",
   "execution_count": 1,
   "metadata": {},
   "outputs": [
    {
     "name": "stdout",
     "output_type": "stream",
     "text": [
      "Error: Division by zero occurred!\n"
     ]
    }
   ],
   "source": [
    "try:\n",
    "    # Code that may raise an exception\n",
    "    result = 10 / 0  # This will raise a ZeroDivisionError\n",
    "except ZeroDivisionError:\n",
    "    # Code to handle the ZeroDivisionError\n",
    "    print(\"Error: Division by zero occurred!\")"
   ]
  },
  {
   "attachments": {},
   "cell_type": "markdown",
   "metadata": {},
   "source": [
    "## 3. What happens if an exception occurs inside a try block and there is no matching except block?\n",
    "Ans) If an exception occurs inside a try block and there is no matching except block to handle that specific exception type, the exception will propagate to the surrounding higher-level try-except blocks to see if any of them can handle the exception. If no matching except block is found in any of the higher-level try-except blocks, the exception will continue to propagate further until it reaches the top-level of the program.\n",
    "\n",
    "If the exception reaches the top-level without being caught and handled, the program will terminate and display an error message (known as an unhandled exception). The error message typically includes information about the type of exception, the line number where the exception occurred, and a traceback showing the sequence of function calls that led to the exception.\n",
    "\n",
    "It is important to have appropriate exception handling in place to catch and handle exceptions effectively, especially for exceptions that are expected or known to occur in your code. This helps prevent the program from crashing and allows for graceful handling of errors and exceptional situations."
   ]
  },
  {
   "attachments": {},
   "cell_type": "markdown",
   "metadata": {},
   "source": [
    "## 4. What is the difference between using a bare except block and specifying a specific exception type?\n",
    "Ans) The difference between using a bare except block and specifying a specific exception type lies in the scope of exceptions that are caught and handled.\n",
    "\n",
    "**Bare Except Block:**\n",
    "A bare except block, also known as a generic except block, is written as except: without specifying any particular exception type. It catches and handles all types of exceptions that may occur in the corresponding try block. It acts as a catch-all for any exception that is raised.\n",
    "\n",
    "**Advantages:**\n",
    "* It provides a way to catch and handle unexpected exceptions.\n",
    "* It prevents the program from crashing if an unknown exception occurs.\n",
    "\n",
    "**Disadvantages:**\n",
    "* It can make it difficult to identify the specific type of exception that occurred, making debugging more challenging.\n",
    "* It may inadvertently catch and handle exceptions that should be allowed to propagate and be handled elsewhere.\n",
    "* It can mask programming errors by silently handling exceptions that should have been explicitly addressed.\n",
    "\n",
    "Example:"
   ]
  },
  {
   "cell_type": "code",
   "execution_count": null,
   "metadata": {},
   "outputs": [],
   "source": [
    "try:\n",
    "    # Code that may raise an exception\n",
    "except:\n",
    "    # Code to handle the exception"
   ]
  },
  {
   "attachments": {},
   "cell_type": "markdown",
   "metadata": {},
   "source": [
    "**Specific Exception Type:**\n",
    "Specifying a specific exception type in the except block allows you to catch and handle only the specified type of exception and its subclasses. This helps you handle exceptions more selectively based on the expected errors or exceptional situations in your code.\n",
    "\n",
    "Advantages:\n",
    "* It provides a focused approach to handle specific exceptions that are expected or known.\n",
    "* It allows for more precise and targeted exception handling.\n",
    "* It makes the code more readable and explicitly states the expected exception types.\n",
    "\n",
    "Disadvantages:\n",
    "* If a different exception occurs than the one specified in the except block, it will not be caught and will propagate to the higher-level try-except blocks or terminate the program if not handled.\n",
    "* It requires identifying and specifying the relevant exception types accurately.\n",
    "\n",
    "Example:"
   ]
  },
  {
   "cell_type": "code",
   "execution_count": null,
   "metadata": {},
   "outputs": [],
   "source": [
    "try:\n",
    "    # Code that may raise an exception\n",
    "except ExceptionType:\n",
    "    # Code to handle the exception"
   ]
  },
  {
   "attachments": {},
   "cell_type": "markdown",
   "metadata": {},
   "source": [
    "## 5. Can you have nested try-except blocks in Python? If yes, then give an example.\n",
    "Ans)Yes, nested try-except blocks can be used in Python. This allows for more granular exception handling in different sections of code. An outer try-except block can contain one or more inner try-except blocks, allowing exceptions to be handled at different levels of the code.\n",
    "\n",
    "Here's an example of nested try-except blocks in Python:"
   ]
  },
  {
   "cell_type": "code",
   "execution_count": 2,
   "metadata": {},
   "outputs": [
    {
     "name": "stdout",
     "output_type": "stream",
     "text": [
      "Error: Division by zero occurred!\n",
      "Error: Invalid conversion to integer!\n",
      "Execution continues...\n"
     ]
    }
   ],
   "source": [
    "try:\n",
    "    # Outer try block\n",
    "    outer_var = 10 / 0  # This will raise a ZeroDivisionError\n",
    "except ZeroDivisionError:\n",
    "    # Outer except block to handle ZeroDivisionError\n",
    "    print(\"Error: Division by zero occurred!\")\n",
    "\n",
    "    try:\n",
    "        # Inner try block\n",
    "        inner_var = int(\"abc\")  # This will raise a ValueError\n",
    "    except ValueError:\n",
    "        # Inner except block to handle ValueError\n",
    "        print(\"Error: Invalid conversion to integer!\")\n",
    "\n",
    "print(\"Execution continues...\")"
   ]
  },
  {
   "attachments": {},
   "cell_type": "markdown",
   "metadata": {},
   "source": [
    "## 6. Can we use multiple exception blocks, if yes then give an example.\n",
    "Ans) Yes, it is possible to use multiple except blocks to handle different types of exceptions in Python. This allows you to specify different exception handlers for different types of exceptions that may occur in your code.\n",
    "\n",
    "Here's an example that demonstrates the use of multiple exception blocks:"
   ]
  },
  {
   "cell_type": "code",
   "execution_count": 3,
   "metadata": {},
   "outputs": [
    {
     "name": "stdout",
     "output_type": "stream",
     "text": [
      "Error: Division by zero is not allowed.\n"
     ]
    }
   ],
   "source": [
    "try:\n",
    "    # Code that may raise exceptions\n",
    "    x = int(input(\"Enter a number: \"))\n",
    "    result = 10 / x\n",
    "    print(\"Result:\", result)\n",
    "except ValueError:\n",
    "    # Handling ValueError\n",
    "    print(\"Invalid input. Please enter a valid number.\")\n",
    "except ZeroDivisionError:\n",
    "    # Handling ZeroDivisionError\n",
    "    print(\"Error: Division by zero is not allowed.\")\n",
    "except Exception as e:\n",
    "    # Handling any other exception\n",
    "    print(\"An error occurred:\", str(e))"
   ]
  },
  {
   "attachments": {},
   "cell_type": "markdown",
   "metadata": {},
   "source": [
    "## 7. Write the reason due to which following errors are raised: \n",
    "a. EOFError <br>b. FloatingPointError<br> c. IndexError<br> d. MemoryError <br>e. OverflowError<br> f. TabError<br> g. ValueError\n",
    "\n",
    "a. EOFError: This error is raised when an input() function or the readline() method of a file object reaches the end of the file or input stream before it can read any more data. It typically occurs when there is an unexpected end of input or when the input is not provided as expected.\n",
    "\n",
    "b. FloatingPointError: This error is raised when a floating-point operation fails to produce a valid result due to exceptional conditions such as division by zero or an invalid operation. It typically occurs when there are arithmetic errors or inconsistencies in floating-point calculations.\n",
    "\n",
    "c. IndexError: This error is raised when trying to access an index that is outside the range of valid indices for a sequence (such as a list or tuple). It typically occurs when attempting to access an element using an index that is larger or smaller than the available indices.\n",
    "\n",
    "d. MemoryError: This error is raised when an operation fails due to insufficient memory to perform the requested action. It typically occurs when the program exhausts the available memory resources, such as when allocating a large amount of memory or working with extremely large data structures.\n",
    "\n",
    "e. OverflowError: This error is raised when an arithmetic operation exceeds the maximum representable value for a numeric type. It typically occurs when performing calculations that result in a value that is too large to be represented by the data type, such as an integer exceeding the maximum value.\n",
    "\n",
    "f. TabError: This error is raised when the indentation in Python code is inconsistent or contains mixtures of tabs and spaces, causing ambiguity in interpreting the code structure. It typically occurs when there are issues with indentation formatting, such as using tabs and spaces inconsistently within the same block of code.\n",
    "\n",
    "g. ValueError: This error is raised when a function receives an argument of the correct type but an invalid value. It typically occurs when a function or operation expects a specific value range or format, and the provided value does not meet the requirements or is not valid for the operation being performed."
   ]
  },
  {
   "attachments": {},
   "cell_type": "markdown",
   "metadata": {},
   "source": [
    "## 8. Write code for the following given scenario and add try-exception block to it. \n",
    "<br>a. Program to divide two numbers <br>b. Program to convert a string to an integer <br>c. Program to access an element in a list <br>d. Program to handle a specific exception<br> e. Program to handle any exception"
   ]
  },
  {
   "cell_type": "code",
   "execution_count": 4,
   "metadata": {},
   "outputs": [
    {
     "name": "stdout",
     "output_type": "stream",
     "text": [
      "Result: 0.8\n"
     ]
    }
   ],
   "source": [
    "# a. Program to divide two numbers\n",
    "try:\n",
    "    numerator = int(input(\"Enter the numerator: \"))\n",
    "    denominator = int(input(\"Enter the denominator: \"))\n",
    "    result = numerator / denominator\n",
    "    print(\"Result:\", result)\n",
    "except ZeroDivisionError:\n",
    "    print(\"Error: Division by zero is not allowed.\")\n",
    "except Exception as e:\n",
    "    print(\"An error occurred:\", str(e))"
   ]
  },
  {
   "cell_type": "code",
   "execution_count": 5,
   "metadata": {},
   "outputs": [
    {
     "name": "stdout",
     "output_type": "stream",
     "text": [
      "Number: 6\n"
     ]
    }
   ],
   "source": [
    "# b. Program to convert a string to an integer\n",
    "try:\n",
    "    num_str = input(\"Enter a number: \")\n",
    "    num = int(num_str)\n",
    "    print(\"Number:\", num)\n",
    "except ValueError:\n",
    "    print(\"Error: Invalid input. Please enter a valid integer.\")\n",
    "except Exception as e:\n",
    "    print(\"An error occurred:\", str(e))"
   ]
  },
  {
   "cell_type": "code",
   "execution_count": 6,
   "metadata": {},
   "outputs": [
    {
     "name": "stdout",
     "output_type": "stream",
     "text": [
      "An error occurred: invalid literal for int() with base 10: 't'\n"
     ]
    }
   ],
   "source": [
    "# c. Program to access an element in a list\n",
    "try:\n",
    "    my_list = [1, 2, 3, 4, 5]\n",
    "    index = int(input(\"Enter an index: \"))\n",
    "    value = my_list[index]\n",
    "    print(\"Value:\", value)\n",
    "except IndexError:\n",
    "    print(\"Error: Index out of range. Please enter a valid index.\")\n",
    "except Exception as e:\n",
    "    print(\"An error occurred:\", str(e))"
   ]
  },
  {
   "cell_type": "code",
   "execution_count": 7,
   "metadata": {},
   "outputs": [
    {
     "name": "stdout",
     "output_type": "stream",
     "text": [
      "Your age is: 56\n"
     ]
    }
   ],
   "source": [
    "# d. Program to handle a specific exception\n",
    "try:\n",
    "    age = int(input(\"Enter your age: \"))\n",
    "    if age < 0:\n",
    "        raise ValueError(\"Age cannot be negative.\")\n",
    "    print(\"Your age is:\", age)\n",
    "except ValueError as ve:\n",
    "    print(\"Error:\", str(ve))\n",
    "except Exception as e:\n",
    "    print(\"An error occurred:\", str(e))"
   ]
  },
  {
   "cell_type": "code",
   "execution_count": null,
   "metadata": {},
   "outputs": [],
   "source": []
  }
 ],
 "metadata": {
  "kernelspec": {
   "display_name": "TensorFlowPractice",
   "language": "python",
   "name": "python3"
  },
  "language_info": {
   "codemirror_mode": {
    "name": "ipython",
    "version": 3
   },
   "file_extension": ".py",
   "mimetype": "text/x-python",
   "name": "python",
   "nbconvert_exporter": "python",
   "pygments_lexer": "ipython3",
   "version": "3.10.11"
  },
  "orig_nbformat": 4
 },
 "nbformat": 4,
 "nbformat_minor": 2
}
