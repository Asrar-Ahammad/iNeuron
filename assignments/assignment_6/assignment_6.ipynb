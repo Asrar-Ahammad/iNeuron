{
 "cells": [
  {
   "attachments": {},
   "cell_type": "markdown",
   "metadata": {},
   "source": [
    "# Q1. Code to print all keywords in python"
   ]
  },
  {
   "cell_type": "code",
   "execution_count": 1,
   "metadata": {},
   "outputs": [
    {
     "name": "stdout",
     "output_type": "stream",
     "text": [
      "False None True and as assert async await break class continue def del elif else except finally for from global if import in is lambda nonlocal not or pass raise return try while with yield "
     ]
    }
   ],
   "source": [
    "import keyword\n",
    "all_keywords = keyword.kwlist\n",
    "\n",
    "for keyword in all_keywords:\n",
    "    print(keyword, end=' ')"
   ]
  },
  {
   "attachments": {},
   "cell_type": "markdown",
   "metadata": {},
   "source": [
    "# Q2. Rules for creating a variable in python\n",
    "**Ans)**\n",
    "1. The variable should not be a reserved keyword.\n",
    "2. The variable name should not start with a number.\n",
    "3. The variable may contain number in between or at the end of variable.\n",
    "4. The variable name may contain special characters.\n",
    "5. The variable name should not start with a special character except underscore `_`.\n",
    "6. To assign a value to a variable assignment operator `=` should be used."
   ]
  },
  {
   "attachments": {},
   "cell_type": "markdown",
   "metadata": {},
   "source": [
    "# Q3. The standards and conventions followed for better readiblity are:\n",
    "**Ans)**\n",
    "1. **Use descriptive names:** Choose variable names that are descriptive and convey the purpose or meaning of the variable. This helps in understanding the code without needing additional comments. For example, use total_students instead of ts or num.\n",
    "\n",
    "2. **Use lowercase with underscores:** Variable names should be in lowercase, and words should be separated by underscores (_). This convention is known as `snake_case`. For example, `user_name`, `num_of_students`.\n",
    "\n",
    "3. **Use of comments:** Comments can be used to explain code in a better way which helps to understand it better. Comment in single line are written as ` # Comment`. Multi line comments are written as `/* comment */`.\n",
    "\n",
    "4. **Avoid abbreviations or acronyms:** Unless widely accepted or commonly used, avoid abbreviations or acronyms in variable names. Use descriptive names instead.\n",
    "\n",
    "5. **Be consistent and meaningful:** Use consistent naming conventions throughout your codebase. If you have variables related to the same concept, use consistent prefixes or suffixes. For example, first_name and last_name for a person's name."
   ]
  },
  {
   "attachments": {},
   "cell_type": "markdown",
   "metadata": {},
   "source": [
    "# Q4. What will happen if a keyword is used as a variable ?\n",
    "**Ans)** It show `SyntaxError : invalid syntax`. So keywords cannot be assigned as variables. "
   ]
  },
  {
   "attachments": {},
   "cell_type": "markdown",
   "metadata": {},
   "source": [
    "# Q5. For what purpose def keyword is used?\n",
    "**Ans)** `def` keyword is used to create a function in python.<br> \n",
    "**Syntax :**\n",
    "`def function_name (argument_1, argument_2):`"
   ]
  },
  {
   "attachments": {},
   "cell_type": "markdown",
   "metadata": {},
   "source": [
    "# Q6. What is the operation of this special character ‘\\’?\n",
    "**1. Escape sequences:** The backslash is used to introduce escape sequences within strings. Escape sequences represent special characters and have a specific meaning. Some commonly used escape sequences include:<br>\n",
    "`\\\\` represents a literal backslash.<br>\n",
    "`\\'` represents a single quotation mark within a string.<br>\n",
    "`\\\"` represents a double quotation mark within a string.<br>\n",
    "`\\n` represents a newline character.<br>\n",
    "`\\t` represents a tab character.<br>\n",
    "`\\r` represents a carriage return character.<br>\n",
    "`\\b` represents a backspace character.<br>\n",
    "<br>\n",
    "**2. Line continuation:** The backslash can be used to split a long line of code into multiple lines for better readability. When a backslash is placed at the end of a line, it indicates that the statement continues on the next line. For example:<br>\n",
    "`long_string = \"This is a very long string that \"\\`<br>\n",
    "              `\"spans across multiple lines.\"`"
   ]
  },
  {
   "attachments": {},
   "cell_type": "markdown",
   "metadata": {},
   "source": [
    "# Q7. Give an example of the following conditions:\n",
    "(i) Homogeneous list:A homogeneous list is a list where all elements are of the same type.Example: `numbers = [1,2,3,4,5]`.<br>\n",
    "(ii) Heterogeneous set: A heterogeneous set is a set that contains elements of different types.Example: `my_set = {1,3.24, True, 'hello'}`.<br>\n",
    "(iii) Homogeneous tuple:A homogeneous tuple is a tuple where all elements are of the same type.Example: `my_tuple = (1,2,3,4,5)`"
   ]
  },
  {
   "attachments": {},
   "cell_type": "markdown",
   "metadata": {},
   "source": [
    "# Q8. Explain the mutable and immutable data types with proper explanation & examples\n",
    "**Ans)**<br>\n",
    "**Immutable Data Types:**\n",
    "Immutable data types are those whose values cannot be changed once they are assigned. Any attempt to modify an immutable object results in the creation of a new object. Some examples of immutable data types in Python include:\n",
    "1. Numbers (int, float, complex)\n",
    "2. Strings (str)\n",
    "3. Tuples (tuple)<br>\n",
    "\n",
    "**Mutable Data Types:**\n",
    "Mutable data types, on the other hand, are objects that can be modified after they are created. Changes made to a mutable object affect its value directly, without the need to create a new object. Some examples of mutable data types in Python include:\n",
    "1. Lists (list)\n",
    "2. Dictionaries (dict)\n",
    "3. Sets (set)<br>"
   ]
  },
  {
   "cell_type": "code",
   "execution_count": 2,
   "metadata": {},
   "outputs": [
    {
     "name": "stdout",
     "output_type": "stream",
     "text": [
      "(1, 2, 3, 4, 5)\n"
     ]
    },
    {
     "ename": "TypeError",
     "evalue": "'tuple' object does not support item assignment",
     "output_type": "error",
     "traceback": [
      "\u001b[0;31m---------------------------------------------------------------------------\u001b[0m",
      "\u001b[0;31mTypeError\u001b[0m                                 Traceback (most recent call last)",
      "Cell \u001b[0;32mIn[2], line 6\u001b[0m\n\u001b[1;32m      3\u001b[0m \u001b[39mprint\u001b[39m(my_tuple)  \u001b[39m# Output: (1, 2, 3, 4, 5)\u001b[39;00m\n\u001b[1;32m      5\u001b[0m \u001b[39m# Attempting to modify the tuple\u001b[39;00m\n\u001b[0;32m----> 6\u001b[0m my_tuple[\u001b[39m2\u001b[39;49m] \u001b[39m=\u001b[39m \u001b[39m10\u001b[39m  \u001b[39m# Raises a TypeError: 'tuple' object does not support item assignment\u001b[39;00m\n",
      "\u001b[0;31mTypeError\u001b[0m: 'tuple' object does not support item assignment"
     ]
    }
   ],
   "source": [
    "# Example for immutable datatype\n",
    "my_tuple = (1, 2, 3, 4, 5)\n",
    "print(my_tuple)  # Output: (1, 2, 3, 4, 5)\n",
    "\n",
    "# Attempting to modify the tuple\n",
    "my_tuple[2] = 10  # Raises a TypeError: 'tuple' object does not support item assignment"
   ]
  },
  {
   "cell_type": "code",
   "execution_count": 3,
   "metadata": {},
   "outputs": [
    {
     "name": "stdout",
     "output_type": "stream",
     "text": [
      "Previous list [1, 2, 3, 4, 5]\n",
      "Updated list [1, 2, 10, 4, 5, 6]\n"
     ]
    }
   ],
   "source": [
    "# Example for mutable datatype\n",
    "my_list = [1, 2, 3, 4, 5]\n",
    "print('Previous list',my_list)  # Output: [1, 2, 3, 4, 5]\n",
    "\n",
    "# Modifying the list\n",
    "my_list.append(6)\n",
    "my_list[2] = 10\n",
    "\n",
    "print('Updated list',my_list)  # Output: [1, 2, 10, 4, 5, 6]"
   ]
  },
  {
   "attachments": {},
   "cell_type": "markdown",
   "metadata": {},
   "source": [
    "# Q9. Write a code to create the given structure using only for loop."
   ]
  },
  {
   "cell_type": "code",
   "execution_count": 4,
   "metadata": {},
   "outputs": [
    {
     "name": "stdout",
     "output_type": "stream",
     "text": [
      "    *    \n",
      "   ***   \n",
      "  *****  \n",
      " ******* \n",
      "*********\n"
     ]
    }
   ],
   "source": [
    "rows = 5\n",
    "for i in range(rows):\n",
    "    stars = \"*\" * (2*i + 1)\n",
    "    print(stars.center(9))\n"
   ]
  },
  {
   "attachments": {},
   "cell_type": "markdown",
   "metadata": {},
   "source": [
    "# Q10. Write a code to create the given structure using while loop."
   ]
  },
  {
   "cell_type": "code",
   "execution_count": 5,
   "metadata": {},
   "outputs": [
    {
     "name": "stdout",
     "output_type": "stream",
     "text": [
      "|||||||||\n",
      " |||||||\n",
      "  |||||\n",
      "   |||\n",
      "    |\n"
     ]
    }
   ],
   "source": [
    "rows = 5\n",
    "stars = \"|||||||||\"\n",
    "spaces = \"\"\n",
    "\n",
    "i = 0\n",
    "while i < rows:\n",
    "    print(spaces + stars)\n",
    "    spaces += \" \"\n",
    "    stars = stars[:-2]\n",
    "    i += 1\n"
   ]
  }
 ],
 "metadata": {
  "kernelspec": {
   "display_name": "TensorFlowPractice",
   "language": "python",
   "name": "python3"
  },
  "language_info": {
   "codemirror_mode": {
    "name": "ipython",
    "version": 3
   },
   "file_extension": ".py",
   "mimetype": "text/x-python",
   "name": "python",
   "nbconvert_exporter": "python",
   "pygments_lexer": "ipython3",
   "version": "3.10.11"
  },
  "orig_nbformat": 4
 },
 "nbformat": 4,
 "nbformat_minor": 2
}
