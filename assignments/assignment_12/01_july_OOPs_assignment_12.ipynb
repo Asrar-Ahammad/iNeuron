{
 "cells": [
  {
   "cell_type": "markdown",
   "metadata": {},
   "source": [
    "# 1. What is the primary goal of Object-Oriented Programming (OOP)?\n",
    "Ans) The primary goal of Object-Oriented Programming (OOP) is to model the real world in a programming paradigm by organizing data and code into self-contained units called \"objects.\" OOP aims to bring together data (attributes) and the operations (methods or functions) that can be performed on that data within these objects. This approach is intended to make software development more organized, maintainable, and easier to understand.\n",
    "\n",
    "The four main principles of OOP are:\n",
    "\n",
    "1. Encapsulation: Encapsulation involves bundling data and the methods that operate on that data within a single unit (object). This way, the internal details and implementation of an object are hidden from the outside, and only the necessary interfaces (public methods) are exposed for interaction.\n",
    "\n",
    "2. Abstraction: Abstraction focuses on representing the essential features of an object while hiding the unnecessary details. It allows developers to create simplified models of complex systems and ignore irrelevant complexities, making the code more manageable and easier to work with.\n",
    "\n",
    "3. Inheritance: Inheritance enables the creation of new classes (derived or child classes) based on existing classes (base or parent classes). The derived classes inherit the properties and behaviors of their parent classes. It promotes code reusability and supports the \"is-a\" relationship, where a derived class is a specialized version of its parent class.\n",
    "\n",
    "4. Polymorphism: Polymorphism allows objects of different classes to be treated as objects of a common superclass. It enables a single interface to represent multiple types of objects and ensures that the correct method is called based on the actual type of the object at runtime. This feature fosters flexibility and extensibility in the code.\n",
    "\n",
    "By employing these principles, OOP helps developers write modular, maintainable, and scalable code, making it easier to build and manage complex software systems. OOP is widely used in various programming languages like Python, Java, C++, and many more to build robust and efficient applications."
   ]
  },
  {
   "cell_type": "markdown",
   "metadata": {},
   "source": [
    "# 2. What is an object in Python?\n",
    "Ans) An object is a fundamental unit that represents a particular instance of a class. It is a self-contained entity that encapsulates data (attributes) and behaviors (methods) associated with that specific instance. Objects are created from classes, which act as blueprints or templates defining the structure and behavior of the objects."
   ]
  },
  {
   "cell_type": "code",
   "execution_count": 1,
   "metadata": {},
   "outputs": [],
   "source": [
    "class Car:\n",
    "    def __init__(self, maker, model, year):\n",
    "        self.maker = maker\n",
    "        self.model = model\n",
    "        self.year = year\n",
    "\n",
    "    def info(self):\n",
    "        print(\n",
    "            f'The maker of car is {self.maker} and model is {self.model} in year {self.year}')\n",
    "\n",
    "\n",
    "c1 = Car(\"Tata\", \"Tiago\", 2017)"
   ]
  },
  {
   "cell_type": "code",
   "execution_count": 2,
   "metadata": {},
   "outputs": [
    {
     "name": "stdout",
     "output_type": "stream",
     "text": [
      "The maker of car is Tata and model is Tiago in year 2017\n"
     ]
    }
   ],
   "source": [
    "c1.info()"
   ]
  },
  {
   "cell_type": "markdown",
   "metadata": {},
   "source": [
    "# 3. What is a class in Python?\n",
    "Ans) In Python, a class is a blueprint or a template that defines the structure and behavior of objects. It acts as a user-defined data type that encapsulates data (attributes) and functions (methods) that operate on that data. A class serves as a blueprint for creating objects, and each object created from the class is referred to as an instance of that class.\n"
   ]
  },
  {
   "cell_type": "code",
   "execution_count": 3,
   "metadata": {},
   "outputs": [],
   "source": [
    "class dog:\n",
    "    def __init__(self, name, age):\n",
    "        self.name = name\n",
    "        self.age = age\n",
    "\n",
    "    def bark(self):\n",
    "        print('Woof!')\n",
    "\n",
    "    def intro(self):\n",
    "        print(f'Hi! I am {self.name} and I am {self.age} years old.')"
   ]
  },
  {
   "cell_type": "code",
   "execution_count": 4,
   "metadata": {},
   "outputs": [],
   "source": [
    "d1 = dog(\"buddy\", 7)"
   ]
  },
  {
   "cell_type": "code",
   "execution_count": 5,
   "metadata": {},
   "outputs": [
    {
     "name": "stdout",
     "output_type": "stream",
     "text": [
      "Woof!\n",
      "Hi! I am buddy and I am 7 years old.\n"
     ]
    }
   ],
   "source": [
    "d1.bark()\n",
    "d1.intro()"
   ]
  },
  {
   "cell_type": "markdown",
   "metadata": {},
   "source": [
    "# 4. What are attributes and methods in a class?\n",
    "Ans) **Attributes:** Attributes are variables that store data associated with each instance (object) of the class. They represent the characteristics or properties of the objects. When you create an object from a class, it has its own set of attribute values, which can be unique for each instance. Attributes are defined within the class but are accessed and modified through the objects."
   ]
  },
  {
   "cell_type": "code",
   "execution_count": 6,
   "metadata": {},
   "outputs": [
    {
     "name": "stdout",
     "output_type": "stream",
     "text": [
      "Toyota\n",
      "Camry\n",
      "2022\n"
     ]
    }
   ],
   "source": [
    "class Car:\n",
    "    def __init__(self, make, model, year):\n",
    "        self.make = make\n",
    "        self.model = model\n",
    "        self.year = year\n",
    "\n",
    "\n",
    "# Creating an object (car1) of the class Car with specific attribute values\n",
    "car1 = Car(\"Toyota\", \"Camry\", 2022)\n",
    "\n",
    "# Accessing attributes of the object\n",
    "print(car1.make)   # Output: \"Toyota\"\n",
    "print(car1.model)  # Output: \"Camry\"\n",
    "print(car1.year)   # Output: 2022"
   ]
  },
  {
   "cell_type": "markdown",
   "metadata": {},
   "source": [
    "**Methods :** Methods are functions defined within the class that operate on the data (attributes) of the objects. They represent the behavior associated with the objects. Methods are called on specific instances (objects) of the class and can access and modify the attributes of that particular instance."
   ]
  },
  {
   "cell_type": "code",
   "execution_count": 7,
   "metadata": {},
   "outputs": [
    {
     "name": "stdout",
     "output_type": "stream",
     "text": [
      "Woof!\n",
      "Hello, I'm Buddy and I'm 3 years old.\n"
     ]
    }
   ],
   "source": [
    "class Dog:\n",
    "    def __init__(self, name, age):\n",
    "        self.name = name\n",
    "        self.age = age\n",
    "\n",
    "    def bark(self):\n",
    "        return \"Woof!\"\n",
    "\n",
    "    def greet(self):\n",
    "        return f\"Hello, I'm {self.name} and I'm {self.age} years old.\"\n",
    "\n",
    "\n",
    "# Creating an object (dog1) of the class Dog\n",
    "dog1 = Dog(\"Buddy\", 3)\n",
    "\n",
    "# Calling methods on the object\n",
    "print(dog1.bark())   # Output: \"Woof!\"\n",
    "print(dog1.greet())  # Output: \"Hello, I'm Buddy and I'm 3 years old.\""
   ]
  },
  {
   "cell_type": "markdown",
   "metadata": {},
   "source": [
    "# 5.What is the difference between class variables and instance variables in Python?\n",
    "Ans) **Class Variables:**\n",
    "Class variables are variables that are shared among all instances (objects) of a class. They are defined within the class but outside any method, and they are the same for all instances of that class. Class variables are created when the class is defined and remain unchanged across all instances."
   ]
  },
  {
   "cell_type": "code",
   "execution_count": 8,
   "metadata": {},
   "outputs": [
    {
     "name": "stdout",
     "output_type": "stream",
     "text": [
      "4\n",
      "4\n",
      "4\n"
     ]
    }
   ],
   "source": [
    "class Car:\n",
    "    # Class variable\n",
    "    wheels = 4\n",
    "\n",
    "    def __init__(self, make, model, year):\n",
    "        self.make = make\n",
    "        self.model = model\n",
    "        self.year = year\n",
    "\n",
    "\n",
    "# Creating objects (car1 and car2) of the class Car\n",
    "car1 = Car(\"Toyota\", \"Camry\", 2022)\n",
    "car2 = Car(\"Honda\", \"Accord\", 2023)\n",
    "\n",
    "# Accessing the class variable using the class name or any instance\n",
    "print(Car.wheels)   # Output: 4\n",
    "print(car1.wheels)  # Output: 4\n",
    "print(car2.wheels)  # Output: 4"
   ]
  },
  {
   "cell_type": "markdown",
   "metadata": {},
   "source": [
    "**Instance Variables:**\n",
    "Instance variables are variables that are unique to each instance (object) of a class. They are defined within the class's methods, typically within the `__init__` method, and they hold data specific to each instance. Instance variables have different values for each object."
   ]
  },
  {
   "cell_type": "code",
   "execution_count": 9,
   "metadata": {},
   "outputs": [
    {
     "name": "stdout",
     "output_type": "stream",
     "text": [
      "Alice\n",
      "30\n",
      "Bob\n",
      "25\n"
     ]
    }
   ],
   "source": [
    "class Person:\n",
    "    def __init__(self, name, age):\n",
    "        # Instance variables\n",
    "        self.name = name\n",
    "        self.age = age\n",
    "\n",
    "\n",
    "# Creating objects (person1 and person2) of the class Person\n",
    "person1 = Person(\"Alice\", 30)\n",
    "person2 = Person(\"Bob\", 25)\n",
    "\n",
    "# Accessing the instance variables for each object\n",
    "print(person1.name)  # Output: \"Alice\"\n",
    "print(person1.age)   # Output: 30\n",
    "print(person2.name)  # Output: \"Bob\"\n",
    "print(person2.age)   # Output: 25"
   ]
  },
  {
   "cell_type": "markdown",
   "metadata": {},
   "source": [
    "# 6. What is the purpose of the self parameter in Python class methods?\n",
    "Ans) \n",
    "In Python class methods, the `self` parameter serves as a reference to the instance (object) on which the method is called. It is a convention used in Python to pass the instance as the first parameter to instance methods. **The name `self` is not a keyword**; it can be any valid variable name, but using `self` is a widely accepted convention in Python.\n",
    "\n",
    "When you define a method in a class, you typically use the `self` parameter as the first parameter in the method definition. When you call that method on an instance of the class, Python automatically passes the instance (object) to the method as the value of the self parameter. This allows the method to access and modify the attributes and other methods of the specific instance on which it is called."
   ]
  },
  {
   "cell_type": "code",
   "execution_count": 10,
   "metadata": {},
   "outputs": [
    {
     "name": "stdout",
     "output_type": "stream",
     "text": [
      "Hello, my name is Alice.\n"
     ]
    }
   ],
   "source": [
    "# class Person:\n",
    "#     def __init__(helo, name):\n",
    "#         helo.name = name\n",
    "\n",
    "#     def say_hello(helo):\n",
    "#         print(f\"Hello, my name is {helo.name}.\")\n",
    "\n",
    "# # Creating an object (person1) of the class Person\n",
    "# person1 = Person(\"Alice\")\n",
    "\n",
    "# # Calling the instance method say_hello() on the object person1\n",
    "# person1.say_hello()\n",
    "\n",
    "class Person:\n",
    "    def __init__(self, name):\n",
    "        self.name = name\n",
    "\n",
    "    def say_hello(self):\n",
    "        print(f\"Hello, my name is {self.name}.\")\n",
    "\n",
    "\n",
    "# Creating an object (person1) of the class Person\n",
    "person1 = Person(\"Alice\")\n",
    "\n",
    "# Calling the instance method say_hello() on the object person1\n",
    "person1.say_hello()"
   ]
  },
  {
   "cell_type": "markdown",
   "metadata": {},
   "source": [
    "# 7. For a library management system, you have to design the \"Book\" class with OOP principles in mind. The “Book” class will have following attributes:<br>\n",
    "a. title: Represents the title of the book.<br>\n",
    "b. author: Represents the author(s) of the book.<br>\n",
    "c. isbn: Represents the ISBN (International Standard Book Number) of the book.<br>\n",
    "d. publication_year: Represents the year of publication of the book.<br>\n",
    "e. available_copies: Represents the number of copies available for checkout.<br>\n",
    "## The class will also include the following methods:<br>\n",
    "a. check_out(self): Decrements the available copies by one if there are copies\n",
    "available for checkout.<br>\n",
    "b. return_book(self): Increments the available copies by one when a book is\n",
    "returned.<br>\n",
    "c. display_book_info(self): Displays the information about the book, including its\n",
    "attributes and the number of available copies."
   ]
  },
  {
   "cell_type": "code",
   "execution_count": 11,
   "metadata": {},
   "outputs": [],
   "source": [
    "class Book:\n",
    "    def __init__(self, title, author, isbn, publication_year, available_copies):\n",
    "        self.title = title\n",
    "        self.author = author\n",
    "        self.isbn = isbn\n",
    "        self.publication_year = publication_year\n",
    "        self.available_copies = available_copies\n",
    "\n",
    "    def checkout(self):\n",
    "        self.available_copies -= 1\n",
    "\n",
    "    def return_book(self):\n",
    "        self.available_copies += 1\n",
    "\n",
    "    def display_book_info(self):\n",
    "        return f'The book {self.title} by {self.author} published in {self.publication_year} has {self.available_copies} copies available. Isbn of book is {self.isbn}'"
   ]
  },
  {
   "cell_type": "code",
   "execution_count": 12,
   "metadata": {},
   "outputs": [],
   "source": [
    "b1 = Book(\"Ikigai\", \"Hello world\", 1242, 2015, 34)"
   ]
  },
  {
   "cell_type": "code",
   "execution_count": 13,
   "metadata": {},
   "outputs": [
    {
     "data": {
      "text/plain": [
       "'The book Ikigai by Hello world published in 2015 has 34 copies available. Isbn of book is 1242'"
      ]
     },
     "execution_count": 13,
     "metadata": {},
     "output_type": "execute_result"
    }
   ],
   "source": [
    "b1.display_book_info()"
   ]
  },
  {
   "cell_type": "code",
   "execution_count": 14,
   "metadata": {},
   "outputs": [
    {
     "data": {
      "text/plain": [
       "'The book Ikigai by Hello world published in 2015 has 33 copies available. Isbn of book is 1242'"
      ]
     },
     "execution_count": 14,
     "metadata": {},
     "output_type": "execute_result"
    }
   ],
   "source": [
    "b1.checkout()\n",
    "b1.display_book_info()"
   ]
  },
  {
   "cell_type": "code",
   "execution_count": 15,
   "metadata": {},
   "outputs": [
    {
     "data": {
      "text/plain": [
       "'The book Ikigai by Hello world published in 2015 has 34 copies available. Isbn of book is 1242'"
      ]
     },
     "execution_count": 15,
     "metadata": {},
     "output_type": "execute_result"
    }
   ],
   "source": [
    "b1.return_book()\n",
    "b1.display_book_info()"
   ]
  },
  {
   "cell_type": "markdown",
   "metadata": {},
   "source": [
    "# 8. For a ticket booking system, you have to design the \"Ticket\" class with OOP principles in mind. The “Ticket” class should have the following attributes:\n",
    "a. ticket_id: Represents the unique identifier for the ticket.<br>\n",
    "b. event_name: Represents the name of the event.<br>\n",
    "c. event_date: Represents the date of the event.<br>\n",
    "d. venue: Represents the venue of the event.<br>\n",
    "e. seat_number: Represents the seat number associated with the ticket.<br>\n",
    "f. price: Represents the price of the ticket.<br>\n",
    "g. is_reserved: Represents the reservation status of the ticket.<br>\n",
    "## The class also includes the following methods:\n",
    "a. reserve_ticket(self): Marks the ticket as reserved if it is not already reserved.<br>\n",
    "b. cancel_reservation(self): Cancels the reservation of the ticket if it is already\n",
    "reserved.<br>\n",
    "c. display_ticket_info(self): Displays the information about the ticket, including its\n",
    "attributes and reservation status."
   ]
  },
  {
   "cell_type": "code",
   "execution_count": 16,
   "metadata": {},
   "outputs": [],
   "source": [
    "class Ticket:\n",
    "    def __init__(self, ticket_id, event_name, event_date, venue, seat_number, price, is_reserved):\n",
    "        self.ticket_id = ticket_id\n",
    "        self.event_name = event_name\n",
    "        self.event_date = event_date\n",
    "        self.venue = venue\n",
    "        self.seat_number = seat_number\n",
    "        self.price = price\n",
    "        self.is_reserved = is_reserved\n",
    "\n",
    "    def reserve_ticket(self):\n",
    "        if self.is_reserved != \"reserved\":\n",
    "            self.is_reserved = \"reserved\"\n",
    "            print(\"The ticket reserved successfully\")\n",
    "        else:\n",
    "            print('Ticket is already reserved.')\n",
    "\n",
    "    def cancel_reservation(self):\n",
    "        if self.is_reserved != \"not reserved\":\n",
    "            self.is_reserved = \"not reserved\"\n",
    "            print(\"The ticket cancellation is successfull\")\n",
    "        else:\n",
    "            print(\"The seat reservation is already canceled.\")\n",
    "\n",
    "    def display_ticket_info(self):\n",
    "        print(f'The ticket with ID {self.ticket_id} for {self.event_name} on {self.event_date} at {self.venue} for price of {self.price} is {self.is_reserved} at seat number {self.seat_number}.')"
   ]
  },
  {
   "cell_type": "code",
   "execution_count": 17,
   "metadata": {},
   "outputs": [],
   "source": [
    "t1 = Ticket(\"001\", \"Intro to Python\", \"23.07.2023\",\n",
    "            \"Pheonix mall\", \"F14\", \"₹1500\", \"reserved\")"
   ]
  },
  {
   "cell_type": "code",
   "execution_count": 18,
   "metadata": {},
   "outputs": [
    {
     "name": "stdout",
     "output_type": "stream",
     "text": [
      "The ticket with ID 001 for Intro to Python on 23.07.2023 at Pheonix mall for price of ₹1500 is reserved at seat number F14.\n"
     ]
    }
   ],
   "source": [
    "t1.display_ticket_info()"
   ]
  },
  {
   "cell_type": "code",
   "execution_count": 19,
   "metadata": {},
   "outputs": [
    {
     "name": "stdout",
     "output_type": "stream",
     "text": [
      "Ticket is already reserved.\n"
     ]
    }
   ],
   "source": [
    "t1.reserve_ticket()"
   ]
  },
  {
   "cell_type": "code",
   "execution_count": 20,
   "metadata": {},
   "outputs": [
    {
     "name": "stdout",
     "output_type": "stream",
     "text": [
      "The ticket cancellation is successfull\n"
     ]
    }
   ],
   "source": [
    "t1.cancel_reservation()"
   ]
  },
  {
   "cell_type": "code",
   "execution_count": 21,
   "metadata": {},
   "outputs": [
    {
     "name": "stdout",
     "output_type": "stream",
     "text": [
      "The seat reservation is already canceled.\n"
     ]
    }
   ],
   "source": [
    "t1.cancel_reservation()"
   ]
  },
  {
   "cell_type": "code",
   "execution_count": 22,
   "metadata": {},
   "outputs": [
    {
     "name": "stdout",
     "output_type": "stream",
     "text": [
      "The ticket reserved successfully\n"
     ]
    }
   ],
   "source": [
    "t1.reserve_ticket()"
   ]
  },
  {
   "cell_type": "code",
   "execution_count": 23,
   "metadata": {},
   "outputs": [
    {
     "name": "stdout",
     "output_type": "stream",
     "text": [
      "Ticket is already reserved.\n"
     ]
    }
   ],
   "source": [
    "t1.reserve_ticket()"
   ]
  },
  {
   "cell_type": "code",
   "execution_count": 24,
   "metadata": {},
   "outputs": [
    {
     "name": "stdout",
     "output_type": "stream",
     "text": [
      "The ticket with ID 001 for Intro to Python on 23.07.2023 at Pheonix mall for price of ₹1500 is reserved at seat number F14.\n"
     ]
    }
   ],
   "source": [
    "t1.display_ticket_info()"
   ]
  },
  {
   "cell_type": "code",
   "execution_count": 25,
   "metadata": {},
   "outputs": [
    {
     "name": "stdout",
     "output_type": "stream",
     "text": [
      "The ticket cancellation is successfull\n",
      "The ticket with ID 001 for Intro to Python on 23.07.2023 at Pheonix mall for price of ₹1500 is not reserved at seat number F14.\n"
     ]
    }
   ],
   "source": [
    "t1.cancel_reservation()\n",
    "t1.display_ticket_info()"
   ]
  },
  {
   "cell_type": "markdown",
   "metadata": {},
   "source": [
    "# 9. You are creating a shopping cart for an e-commerce website. Using OOP to model the \"ShoppingCart\" functionality the class should contain following attributes and methods:\n",
    "a. items: Represents the list of items in the shopping cart.\n",
    "## The class also includes the following methods:\n",
    "a. add_item(self, item): Adds an item to the shopping cart by appending it to the\n",
    "list of items.<br>\n",
    "b. remove_item(self, item): Removes an item from the shopping cart if it exists in\n",
    "the list.<br>\n",
    "c. view_cart(self): Displays the items currently present in the shopping cart.<br>\n",
    "d. clear_cart(self): Clears all items from the shopping cart by reassigning an\n",
    "empty list to the items attribute.<br>"
   ]
  },
  {
   "cell_type": "code",
   "execution_count": 26,
   "metadata": {},
   "outputs": [],
   "source": [
    "class ShoppingCart:\n",
    "    def __init__(self):\n",
    "        self.items = []\n",
    "\n",
    "    def add_item(self, item):\n",
    "        self.items.append(item)\n",
    "        print(\"Item successfully added.\")\n",
    "\n",
    "    def remove_item(self, item):\n",
    "        if item in self.items:\n",
    "            self.items.remove(item)\n",
    "            print(\"Item Successfully removed.\")\n",
    "        else:\n",
    "            print(f\"{item} is not in the shopping cart.\")\n",
    "\n",
    "    def view_cart(self):\n",
    "        if not self.items:\n",
    "            print(\"Shopping cart is empty.\")\n",
    "        else:\n",
    "            print(\"Items in the shopping cart:\")\n",
    "            for item in self.items:\n",
    "                print(item)\n",
    "\n",
    "    def clear_cart(self):\n",
    "        self.items = []"
   ]
  },
  {
   "cell_type": "code",
   "execution_count": 27,
   "metadata": {},
   "outputs": [
    {
     "name": "stdout",
     "output_type": "stream",
     "text": [
      "Item successfully added.\n",
      "Item successfully added.\n",
      "Item successfully added.\n",
      "Items in the shopping cart:\n",
      "Shirt\n",
      "Shoes\n",
      "Hat\n",
      "Item Successfully removed.\n",
      "Items in the shopping cart:\n",
      "Shirt\n",
      "Hat\n",
      "Shopping cart is empty.\n"
     ]
    }
   ],
   "source": [
    "# Example usage of the ShoppingCart class\n",
    "cart = ShoppingCart()\n",
    "\n",
    "cart.add_item(\"Shirt\")\n",
    "cart.add_item(\"Shoes\")\n",
    "cart.add_item(\"Hat\")\n",
    "\n",
    "cart.view_cart()\n",
    "\n",
    "cart.remove_item(\"Shoes\")\n",
    "cart.view_cart()\n",
    "\n",
    "cart.clear_cart()\n",
    "cart.view_cart()"
   ]
  },
  {
   "cell_type": "markdown",
   "metadata": {},
   "source": [
    "# 10. Imagine a school management system. You have to design the \"Student\" class using OOP concepts.The “Student” class has the following attributes:\n",
    "a. name: Represents the name of the student.<br>\n",
    "b. age: Represents the age of the student.<br>\n",
    "c. grade: Represents the grade or class of the student.<br>\n",
    "d. student_id: Represents the unique identifier for the student.<br>\n",
    "e. attendance: Represents the attendance record of the student.<br>\n",
    "## The class should also include the following methods:\n",
    "a. update_attendance(self, date, status): Updates the attendance record of the\n",
    "student for a given date with the provided status (e.g., present or absent).<br>\n",
    "b. get_attendance(self): Returns the attendance record of the student.<br>\n",
    "c. get_average_attendance(self): Calculates and returns the average\n",
    "attendance percentage of the student based on their attendance record."
   ]
  },
  {
   "cell_type": "code",
   "execution_count": 28,
   "metadata": {},
   "outputs": [],
   "source": [
    "class Student:\n",
    "    def __init__(self, name, age, grade, student_id):\n",
    "        self.name = name\n",
    "        self.age = age\n",
    "        self.grade = grade\n",
    "        self.student_id = student_id\n",
    "        self.attendance = {}\n",
    "\n",
    "    def update_attendance(self, date, status):\n",
    "        self.attendance[date] = status\n",
    "        print(\"Attendence updated successfully.\")\n",
    "\n",
    "    def get_attendance(self):\n",
    "        return self.attendance\n",
    "\n",
    "    def get_average_attendance(self):\n",
    "        if not self.attendance:\n",
    "            return 0.0\n",
    "\n",
    "        total_days = len(self.attendance)\n",
    "        present_days = sum(\n",
    "            status == \"present\" for status in self.attendance.values())\n",
    "        average_attendance = (present_days / total_days) * 100\n",
    "        return round(average_attendance, 2)"
   ]
  },
  {
   "cell_type": "code",
   "execution_count": 29,
   "metadata": {},
   "outputs": [
    {
     "name": "stdout",
     "output_type": "stream",
     "text": [
      "Attendence updated successfully.\n",
      "Attendence updated successfully.\n",
      "Attendence updated successfully.\n",
      "Student Attendance:\n",
      "{'2023-07-20': 'present', '2023-07-21': 'absent', '2023-07-22': 'present'}\n",
      "Average Attendance: 66.67%\n"
     ]
    }
   ],
   "source": [
    "# Example usage of the Student class\n",
    "student1 = Student(\"Alice\", 15, \"10th\", \"S1234\")\n",
    "\n",
    "student1.update_attendance(\"2023-07-20\", \"present\")\n",
    "student1.update_attendance(\"2023-07-21\", \"absent\")\n",
    "student1.update_attendance(\"2023-07-22\", \"present\")\n",
    "\n",
    "print(\"Student Attendance:\")\n",
    "print(student1.get_attendance())\n",
    "\n",
    "average_attendance = student1.get_average_attendance()\n",
    "print(f\"Average Attendance: {average_attendance}%\")"
   ]
  }
 ],
 "metadata": {
  "kernelspec": {
   "display_name": "TensorFlowPractice",
   "language": "python",
   "name": "python3"
  },
  "language_info": {
   "codemirror_mode": {
    "name": "ipython",
    "version": 3
   },
   "file_extension": ".py",
   "mimetype": "text/x-python",
   "name": "python",
   "nbconvert_exporter": "python",
   "pygments_lexer": "ipython3",
   "version": "3.10.11"
  },
  "orig_nbformat": 4
 },
 "nbformat": 4,
 "nbformat_minor": 2
}
