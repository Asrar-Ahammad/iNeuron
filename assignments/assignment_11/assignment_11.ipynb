{
 "cells": [
  {
   "attachments": {},
   "cell_type": "markdown",
   "metadata": {},
   "source": [
    "# Assignment-11 (18th June)"
   ]
  },
  {
   "attachments": {},
   "cell_type": "markdown",
   "metadata": {},
   "source": [
    "## 1. What is the role of the 'else' block in a try-except statement? Provide an example scenario where it would be useful.\n",
    "Ans) The 'else' block in a try-except statement is optional and is executed only if no exceptions are raised in the corresponding try block. It allows you to specify a block of code that should be executed when the try block completes successfully without any exceptions.\n",
    "\n",
    "The role of the 'else' block is to provide a way to separate the code that may raise an exception from the code that should be executed only when no exception occurs. It helps in organizing the code and making it more readable by separating the exception handling logic from the normal flow of code.\n",
    "\n",
    "Here's an example scenario where the 'else' block can be useful:"
   ]
  },
  {
   "cell_type": "code",
   "execution_count": 1,
   "metadata": {},
   "outputs": [
    {
     "name": "stdout",
     "output_type": "stream",
     "text": [
      "Result: 0.7555555555555555\n"
     ]
    }
   ],
   "source": [
    "try:\n",
    "    num1 = int(input(\"Enter the first number: \"))\n",
    "    num2 = int(input(\"Enter the second number: \"))\n",
    "except ValueError:\n",
    "    print(\"Error: Invalid input. Please enter valid integers.\")\n",
    "else:\n",
    "    result = num1 / num2\n",
    "    print(\"Result:\", result)"
   ]
  },
  {
   "attachments": {},
   "cell_type": "markdown",
   "metadata": {},
   "source": [
    "## 2. Can a try-except block be nested inside another try-except block? Explain with an example.\n",
    "Ans) Yes, a try-except block can be nested inside another try-except block in Python. This is known as nested exception handling, where an inner try-except block is placed within the scope of an outer try-except block.\n",
    "\n",
    "Example: "
   ]
  },
  {
   "cell_type": "code",
   "execution_count": 2,
   "metadata": {},
   "outputs": [
    {
     "name": "stdout",
     "output_type": "stream",
     "text": [
      "Result: 1.2162162162162162\n"
     ]
    }
   ],
   "source": [
    "try:\n",
    "    # Outer try block\n",
    "    num1 = int(input(\"Enter the first number: \"))\n",
    "    num2 = int(input(\"Enter the second number: \"))\n",
    "    \n",
    "    try:\n",
    "        # Inner try block\n",
    "        result = num1 / num2\n",
    "        print(\"Result:\", result)\n",
    "    except ZeroDivisionError:\n",
    "        print(\"Error: Division by zero occurred!\")\n",
    "except ValueError:\n",
    "    print(\"Error: Invalid input. Please enter valid integers.\")"
   ]
  },
  {
   "attachments": {},
   "cell_type": "markdown",
   "metadata": {},
   "source": [
    "## 3. How can you create a custom exception class in Python? Provide an example that demonstrates its usage.\n",
    "Ans) In Python, you can create a custom exception class by defining a new class that inherits from the built-in `Exception` class or any of its subclasses. This allows you to define your own exception hierarchy and create custom exceptions tailored to your specific needs.\n",
    "\n",
    "Here's an example that demonstrates how to create a custom exception class and how to use it:"
   ]
  },
  {
   "cell_type": "code",
   "execution_count": 3,
   "metadata": {},
   "outputs": [
    {
     "name": "stdout",
     "output_type": "stream",
     "text": [
      "An error occurred: invalid literal for int() with base 10: 'e'\n"
     ]
    }
   ],
   "source": [
    "class CustomError(Exception):\n",
    "    def __init__(self, message):\n",
    "        self.message = message\n",
    "\n",
    "try:\n",
    "    age = int(input(\"Enter your age: \"))\n",
    "    if age < 0:\n",
    "        raise CustomError(\"Age cannot be negative.\")\n",
    "    print(\"Your age is:\", age)\n",
    "except CustomError as ce:\n",
    "    print(\"Custom Error:\", ce.message)\n",
    "except Exception as e:\n",
    "    print(\"An error occurred:\", str(e))"
   ]
  },
  {
   "attachments": {},
   "cell_type": "markdown",
   "metadata": {},
   "source": [
    "## 4. What are some common exceptions that are built-in to Python?\n",
    "Ans) Python provides a wide range of built-in exceptions that cover various types of errors and exceptional situations. Some common built-in exceptions in Python include:\n",
    "\n",
    "* ZeroDivisionError: Raised when division or modulo operation is performed with zero as the denominator.\n",
    "\n",
    "* TypeError: Raised when an operation or function is applied to an object of inappropriate type.\n",
    "\n",
    "* ValueError: Raised when a function receives an argument of the correct type but an invalid value.\n",
    "\n",
    "* IndexError: Raised when trying to access an index that is outside the range of valid indices for a sequence.\n",
    "\n",
    "* KeyError: Raised when a dictionary key is not found.\n",
    "\n",
    "* FileNotFoundError: Raised when trying to open a file that does not exist.\n",
    "\n",
    "* AttributeError: Raised when an attribute reference or assignment fails.\n",
    "\n",
    "* ImportError: Raised when an imported module or module attribute is not found.\n",
    "\n",
    "* IOError: Raised when an I/O operation fails (deprecated since Python 3).\n",
    "\n",
    "* NameError: Raised when a local or global name is not found.\n",
    "\n",
    "* OverflowError: Raised when an arithmetic operation exceeds the maximum representable value.\n",
    "\n",
    "* RuntimeError: Raised when an error does not fall under any other standard exception.\n",
    "\n",
    "* StopIteration: Raised when the next() function is called on an iterator that has no further items.\n",
    "\n",
    "* TypeError: Raised when an operation or function is applied to an object of inappropriate type.\n",
    "\n",
    "* KeyError: Raised when a dictionary key is not found."
   ]
  },
  {
   "attachments": {},
   "cell_type": "markdown",
   "metadata": {},
   "source": [
    "## 5. What is logging in Python, and why is it important in software development?\n",
    "Ans) Logging in Python is a module and technique used for recording and storing information about events that occur during the execution of a program. It provides a flexible and efficient way to collect and manage log messages, which can include informational, warning, error, or debug messages.\n",
    "\n",
    "Logging is important in software development for several reasons:\n",
    "\n",
    "1. **Debugging and Troubleshooting:** Logging allows developers to track the flow of their program and identify issues or bugs by examining log messages. It provides valuable information about the program's execution, variable values, and the occurrence of specific events.\n",
    "\n",
    "2. **Error and Exception Handling:** By logging errors and exceptions, developers can gather information about what went wrong, including stack traces and relevant context. This helps in diagnosing and resolving issues encountered during runtime.\n",
    "\n",
    "3. **Monitoring and Analysis:** Logs play a crucial role in monitoring and analyzing the behavior of a software system. They provide insights into performance, usage patterns, and system health. By monitoring logs, developers can identify bottlenecks, unexpected behaviors, or anomalies in their applications.\n",
    "\n",
    "4. **Auditing and Compliance:** Logging is often required for compliance purposes and auditing. It enables tracking and documenting critical actions or events in a system, ensuring accountability and regulatory compliance.\n",
    "\n",
    "5. **Historical Record and Forensics:** Logs serve as a historical record of a program's execution, enabling developers to trace back events and investigate issues that occurred in the past. This can be valuable for forensic analysis or identifying patterns in system behavior."
   ]
  },
  {
   "attachments": {},
   "cell_type": "markdown",
   "metadata": {},
   "source": [
    "## 6. Explain the purpose of log levels in Python logging and provide examples of when each log level would be appropriate.\n",
    "Ans) Log levels in Python logging provide a way to categorize and prioritize log messages based on their severity or importance. Python's logging module defines several standard log levels, each serving a specific purpose. Here are the common log levels and examples of when each level would be appropriate:\n",
    "\n",
    "* **DEBUG:** This is the lowest log level and is used for detailed debugging information. It is typically used during development to provide insights into the internal state of the program, variable values, or function calls. Example: Logging the values of variables for troubleshooting a specific issue.\n",
    "\n",
    "* **INFO:** This level is used to convey general information about the program's execution. It is used to highlight important milestones, configuration details, or general progress updates. Example: Logging the start and completion of important processes or operations.\n",
    "\n",
    "* **WARNING:** This level indicates a potential issue or situation that may lead to problems in the future. It is used to capture events that are not critical but should be noted. Example: Logging a deprecated function or a non-critical configuration parameter.\n",
    "\n",
    "* **ERROR:** This level indicates a more severe issue that prevents the program from functioning as expected. It is used to log errors that may require attention or further investigation. Example: Logging an exception that occurred but did not crash the program.\n",
    "\n",
    "* **CRITICAL:** This is the highest log level and is used to indicate critical errors or situations that require immediate attention. It represents severe failures that might lead to application crashes or data loss. Example: Logging a critical failure in a crucial system component or a security breach attempt."
   ]
  },
  {
   "attachments": {},
   "cell_type": "markdown",
   "metadata": {},
   "source": [
    "## 7. What are log formatters in Python logging, and how can you customise the log message format using formatters?\n",
    "Ans) Log formatters in Python logging are used to define the structure and content of log messages. They allow customization of the log message format by specifying placeholders for various log record attributes such as the log level, timestamp, logger name, message, and more.\n",
    "\n",
    "The `logging.Formatter` class in Python provides the functionality to define log message formats. It supports formatting using the same syntax as the built-in `str.format()` method or the older `%` operator.\n",
    "\n",
    "Here's an example that demonstrates how to customize the log message format using a formatter:"
   ]
  },
  {
   "cell_type": "code",
   "execution_count": 4,
   "metadata": {},
   "outputs": [
    {
     "name": "stderr",
     "output_type": "stream",
     "text": [
      "2023-06-25 18:01:36,476 - DEBUG - This is a debug message\n",
      "2023-06-25 18:01:36,477 - INFO - This is an info message\n",
      "2023-06-25 18:01:36,478 - WARNING - This is a warning message\n"
     ]
    }
   ],
   "source": [
    "import logging\n",
    "\n",
    "# Create a logger\n",
    "logger = logging.getLogger('my_logger')\n",
    "logger.setLevel(logging.DEBUG)\n",
    "\n",
    "# Create a formatter\n",
    "formatter = logging.Formatter('%(asctime)s - %(levelname)s - %(message)s')\n",
    "\n",
    "# Create a handler and set the formatter\n",
    "handler = logging.StreamHandler()\n",
    "handler.setFormatter(formatter)\n",
    "\n",
    "# Add the handler to the logger\n",
    "logger.addHandler(handler)\n",
    "\n",
    "# Log some messages\n",
    "logger.debug('This is a debug message')\n",
    "logger.info('This is an info message')\n",
    "logger.warning('This is a warning message')"
   ]
  },
  {
   "attachments": {},
   "cell_type": "markdown",
   "metadata": {},
   "source": [
    "## 8. How can you set up logging to capture log messages from multiple modules or classes in a Python application?\n",
    "Ans) To capture log messages from multiple modules or classes in a Python application, you can set up a common logger that is accessible across different modules or classes. This allows all the log messages to be sent to a central logging configuration, which can then be configured to write log messages to the desired output, such as a file or the console.\n",
    "\n",
    "Here's an example of how you can set up logging to capture log messages from multiple modules or classes:\n",
    "\n",
    "In this example, we create a logger named `my_logger` in the `main.py` file. This logger is shared across `module1.py` and `module2.py` by retrieving the logger instance using `logging.getLogger('my_logger')` in each module."
   ]
  },
  {
   "cell_type": "code",
   "execution_count": null,
   "metadata": {},
   "outputs": [],
   "source": [
    "# main.py\n",
    "import logging\n",
    "import module1\n",
    "import module2\n",
    "\n",
    "# Create a logger\n",
    "logger = logging.getLogger('my_logger')\n",
    "logger.setLevel(logging.DEBUG)\n",
    "\n",
    "# Create a handler\n",
    "handler = logging.StreamHandler()\n",
    "handler.setLevel(logging.DEBUG)\n",
    "\n",
    "# Create a formatter\n",
    "formatter = logging.Formatter('%(asctime)s - %(levelname)s - %(message)s')\n",
    "handler.setFormatter(formatter)\n",
    "\n",
    "# Add the handler to the logger\n",
    "logger.addHandler(handler)\n",
    "\n",
    "# Log messages from module1 and module2\n",
    "logger.debug('Debug message from main.py')\n",
    "module1.do_something()\n",
    "module2.do_something_else()"
   ]
  },
  {
   "cell_type": "code",
   "execution_count": null,
   "metadata": {},
   "outputs": [],
   "source": [
    "# module1.py\n",
    "import logging\n",
    "\n",
    "# Get the logger instance\n",
    "logger = logging.getLogger('my_logger')\n",
    "\n",
    "def do_something():\n",
    "    logger.info('Info message from module1.py')\n",
    "    logger.warning('Warning message from module1.py')"
   ]
  },
  {
   "cell_type": "code",
   "execution_count": null,
   "metadata": {},
   "outputs": [],
   "source": [
    "# module2.py\n",
    "import logging\n",
    "\n",
    "# Get the logger instance\n",
    "logger = logging.getLogger('my_logger')\n",
    "\n",
    "def do_something_else():\n",
    "    logger.error('Error message from module2.py')\n",
    "    logger.critical('Critical message from module2.py')"
   ]
  },
  {
   "attachments": {},
   "cell_type": "markdown",
   "metadata": {},
   "source": [
    "## 9. What is the difference between the logging and print statements in Python? When should you use logging over print statements in a real-world application?\n",
    "Ans) **Logging**:\n",
    "\n",
    "* **Purpose:** The logging module in Python is specifically designed for generating log messages that provide information about the execution of a program. It allows developers to record events, track the flow of the program, and capture valuable information for debugging, monitoring, and analysis.\n",
    "* **Advantages:**\n",
    "    * Log Levels: Logging provides different log levels (DEBUG, INFO, WARNING, ERROR, CRITICAL), allowing you to categorize and prioritize log messages based on their severity or importance.\n",
    "    * Configurability: The logging module offers extensive configuration options. You can control the log message format, log destinations (file, console, etc.), log rotation, and filtering based on log levels or other criteria.\n",
    "    * Granular Control: With logging, you can selectively enable or disable log messages based on the log level, allowing you to control the verbosity of the output.\n",
    "    * Centralized Handling: Logging allows you to centralize log messages from multiple modules or classes, making it easier to manage and analyze logs in large applications.\n",
    "* **When to Use Logging:** Logging is typically used in real-world applications where there is a need for structured and persistent log messages. It is especially useful in scenarios such as:\n",
    "    * Debugging and troubleshooting issues during development.\n",
    "    * Monitoring and analyzing the behavior of a running application in production.\n",
    "    * Recording important events, errors, or warnings for auditing and compliance.\n",
    "    * Tracking the execution flow and performance of critical processes.\n",
    "\n",
    "**Print Statements:**\n",
    "\n",
    "* Purpose: The print statement is a built-in Python function used for displaying output to the console or standard output. It is primarily used for temporary debugging or quick information display during development.\n",
    "* **Advantages:**\n",
    "    * Simplicity: Print statements are straightforward and easy to use. They require minimal setup and can quickly display values or messages to the console.\n",
    "    * Immediate Output: Print statements display output immediately, without the need for additional configuration or logging handlers.\n",
    "* **When to Use Print Statements:** Print statements are commonly used in small scripts, quick tests, or during the initial stages of development for immediate feedback. They are suitable when:\n",
    "    * You need quick and temporary output for debugging purposes.\n",
    "    * You are working on small-scale projects without the need for structured logging.\n",
    "    * You want to quickly check the values of variables or debug specific parts of the code.**Print Statements:"
   ]
  },
  {
   "attachments": {},
   "cell_type": "markdown",
   "metadata": {},
   "source": [
    "## 10. Write a Python program that logs a message to a file named \"app.log\" with the following requirements: \n",
    "● The log message should be \"Hello, World!\"<br> ● The log level should be set to \"INFO.\" <br>● The log file should append new log entries without overwriting previous ones."
   ]
  },
  {
   "cell_type": "code",
   "execution_count": 5,
   "metadata": {},
   "outputs": [],
   "source": [
    "import logging\n",
    "\n",
    "# Configure logging\n",
    "logging.basicConfig(filename='app.log', level=logging.INFO, filemode='a', format='%(asctime)s - %(levelname)s - %(message)s')\n",
    "\n",
    "# Log the message\n",
    "logging.info('Hello, World!')"
   ]
  },
  {
   "attachments": {},
   "cell_type": "markdown",
   "metadata": {},
   "source": [
    "## 11. Create a Python program that logs an error message to the console and a file named \"errors.log\" if an exception occurs during the program's execution. The error message should include the exception type and a timestamp."
   ]
  },
  {
   "cell_type": "code",
   "execution_count": 6,
   "metadata": {},
   "outputs": [
    {
     "name": "stdout",
     "output_type": "stream",
     "text": [
      "Error: ValueError: An example exception occurred.\n"
     ]
    }
   ],
   "source": [
    "import logging\n",
    "import datetime\n",
    "\n",
    "# Configure logging\n",
    "logging.basicConfig(level=logging.ERROR, format='%(asctime)s - %(levelname)s - %(message)s')\n",
    "\n",
    "# Create a file handler\n",
    "file_handler = logging.FileHandler('errors.log')\n",
    "file_handler.setLevel(logging.ERROR)\n",
    "\n",
    "# Create a formatter\n",
    "formatter = logging.Formatter('%(asctime)s - %(levelname)s - %(message)s')\n",
    "file_handler.setFormatter(formatter)\n",
    "\n",
    "# Add the file handler to the root logger\n",
    "logging.getLogger().addHandler(file_handler)\n",
    "\n",
    "try:\n",
    "    # Code that may raise an exception\n",
    "    raise ValueError(\"An example exception occurred.\")  # Simulating an exception\n",
    "except Exception as e:\n",
    "    # Log the error message with timestamp to the console and file\n",
    "    error_message = f\"{type(e).__name__}: {e}\"\n",
    "    logging.error(error_message)\n",
    "\n",
    "    # Optionally, you can also print the error message to the console\n",
    "    print(\"Error:\", error_message)"
   ]
  },
  {
   "cell_type": "code",
   "execution_count": null,
   "metadata": {},
   "outputs": [],
   "source": []
  }
 ],
 "metadata": {
  "kernelspec": {
   "display_name": "TensorFlowPractice",
   "language": "python",
   "name": "python3"
  },
  "language_info": {
   "codemirror_mode": {
    "name": "ipython",
    "version": 3
   },
   "file_extension": ".py",
   "mimetype": "text/x-python",
   "name": "python",
   "nbconvert_exporter": "python",
   "pygments_lexer": "ipython3",
   "version": "3.10.11"
  },
  "orig_nbformat": 4
 },
 "nbformat": 4,
 "nbformat_minor": 2
}
