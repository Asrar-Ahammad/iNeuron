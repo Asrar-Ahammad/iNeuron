{
 "cells": [
  {
   "cell_type": "markdown",
   "metadata": {},
   "source": [
    "# 2 JULY - Assignment 13"
   ]
  },
  {
   "cell_type": "markdown",
   "metadata": {},
   "source": [
    "# 1. Explain what inheritance is in object-oriented programming and why it is used.\n",
    "Ans) In object-oriented programming, inheritance is a fundamental concept that allows a class to inherit properties and behaviors from another class, known as the parent or base class. The class that inherits these properties and behaviors is called the child or derived class.<br><br>\n",
    "Inheritance is used to promote code reuse and establish a hierarchical relationship between classes. It enables the child class to inherit the attributes and methods of the parent class, reducing code duplication and promoting modular design. By inheriting from a base class, the child class can extend or modify the inherited functionality to suit its specific needs.<br><br>\n",
    "This concept is particularly useful when you have multiple classes that share common attributes and behaviors. Instead of defining those attributes and behaviors in each class separately, you can define them once in a base class and have other classes inherit from it. This not only saves development time but also improves code maintainability and reduces the chances of introducing bugs.\n",
    "Inheritance also facilitates polymorphism, which allows objects of different classes to be treated as objects of a common base class. This enables you to write more flexible and extensible code, as you can write functions or methods that can accept objects of different derived classes, but still operate on them using the common base class interface.<br><br>\n",
    "Overall, inheritance is a powerful mechanism in object-oriented programming that promotes code reuse, modularity, and flexibility, making it an essential concept for software engineers to understand and utilize effectively."
   ]
  },
  {
   "cell_type": "markdown",
   "metadata": {},
   "source": [
    "# 2. Discuss the concept of single inheritance and multiple inheritance, highlighting their differences and advantages.\n",
    "Ans) \n",
    "**Single Inheritance:**\n",
    "Single inheritance refers to the scenario where a class can inherit from only one parent class. In other words, each class can have only one immediate superclass. This restriction simplifies the class hierarchy and helps prevent certain complexities and ambiguities that might arise from multiple inheritance.\n",
    "\n",
    "Advantages of Single Inheritance:\n",
    "1. **Simplicity:** Single inheritance leads to a simpler and more straightforward class hierarchy, making the code easier to understand and maintain.\n",
    "2. **Reduced Complexity:** It avoids the \"diamond problem,\" which is a complication that can arise in multiple inheritance scenarios where ambiguities occur due to shared attributes and methods from different parent classes.\n",
    "3. **Enhanced Encapsulation:** Single inheritance can promote better encapsulation of attributes and methods, as there is less chance of conflicting or redundant behaviors.\n",
    "\n",
    "**Multiple Inheritance:**\n",
    "Multiple inheritance allows a class to inherit attributes and methods from more than one parent class. This enables a class to combine features from multiple sources, potentially leading to more flexible and expressive code designs.\n",
    "\n",
    "Advantages of Multiple Inheritance:\n",
    "1. **Code Reusability:** Multiple inheritance facilitates the reuse of code by allowing a class to inherit behaviors from multiple parent classes, leading to more efficient development.\n",
    "2. **Richer Functionality:** By inheriting from multiple sources, a class can gain a broader range of capabilities and behaviors, making it easier to model complex relationships and scenarios.\n",
    "3. **Mixins and Interfaces:** Multiple inheritance can be used to create mixins or interfaces, where a class can inherit specific sets of methods to provide specific functionalities. This promotes modular and customizable designs.\n",
    "\n",
    "**Differences:**\n",
    "1. **Number of Parents:** The main difference between single and multiple inheritance is the number of parent classes a child class can inherit from. Single inheritance allows only one parent, while multiple inheritance allows multiple parents.\n",
    "\n",
    "2. **Complexity:** Single inheritance tends to result in simpler class hierarchies and reduced chances of conflicts, while multiple inheritance can introduce complexities due to potential conflicts and the need to handle ambiguities.\n",
    "\n",
    "3. **Diamond Problem:** The diamond problem is a specific issue that can arise in multiple inheritance when a class inherits from two classes that have a common base class. This can lead to confusion about which inherited method or attribute should be used. Single inheritance avoids this problem."
   ]
  },
  {
   "cell_type": "markdown",
   "metadata": {},
   "source": [
    "# 3. Explain the terms \"base class\" and \"derived class\" in the context of inheritance.\n",
    "Ans) **Base Class:**\n",
    "A base class, also known as a parent class or superclass, is a class from which other classes inherit properties and behaviors. It serves as a template or blueprint for creating new classes that share common attributes and methods. The base class defines the fundamental characteristics and functionalities that are shared by its derived classes.\n",
    "\n",
    "**Derived Class:**\n",
    "A derived class, also known as a child class or subclass, is a class that inherits properties and behaviors from a base class. The derived class extends or specializes the functionality of the base class by adding its own attributes and methods or by modifying the inherited ones. It can also introduce new behaviors that are specific to its context."
   ]
  },
  {
   "cell_type": "code",
   "execution_count": 1,
   "metadata": {},
   "outputs": [],
   "source": [
    "class Animal: # base class\n",
    "    def speak(self):\n",
    "        pass\n",
    "\n",
    "class Dog(Animal):  # Dog is a derived class of Animal\n",
    "    def speak(self):\n",
    "        return \"Woof!\"\n",
    "\n",
    "class Cat(Animal):  # Cat is also a derived class of Animal\n",
    "    def speak(self):\n",
    "        return \"Meow!\""
   ]
  },
  {
   "cell_type": "markdown",
   "metadata": {},
   "source": [
    "# 4. What is the significance of the \"protected\" access modifier in inheritance? How does it differ from \"private\" and \"public\" modifiers?\n",
    "Ans) \n",
    "**1. Private Access Modifier:**\n",
    "* Members marked as private are only accessible within the same class. They are not accessible from any derived classes or external classes.\n",
    "* This access modifier is used to encapsulate implementation details and ensure that internal workings of a class are hidden from outside interference.\n",
    "* Private members are not inherited by derived classes.\n",
    "\n",
    "**2. Protected Access Modifier:**\n",
    "* Members marked as protected are accessible within the same class and derived classes (subclasses).\n",
    "* Protected access allows a balance between encapsulation and inheritance. It provides more visibility than private access while still restricting access to outside classes.\n",
    "* Protected members can be inherited by derived classes, allowing them to access and potentially override inherited behavior.\n",
    "* It's useful when you want to expose certain elements to derived classes for customization or extension while still maintaining some level of encapsulation.\n",
    "\n",
    "**3. Public Access Modifier:**\n",
    "* Members marked as public are accessible from anywhere, including outside classes.\n",
    "* Public members have no access restrictions and are fully accessible, making them widely visible and usable.\n",
    "* Public members are inherited by derived classes.\n",
    "\n",
    "**The key differences between \"private,\" \"protected,\" and \"public\" access modifiers in inheritance are as follows:**\n",
    "\n",
    "* Private: Members are only accessible within the same class. They are not inherited by derived classes. Used for encapsulating internal implementation details.\n",
    "\n",
    "* Protected: Members are accessible within the same class and derived classes. They are inherited by derived classes. Used to provide customization and extension points while still maintaining encapsulation.\n",
    "\n",
    "* Public: Members are accessible from anywhere, including outside classes. They are inherited by derived classes. Used when you want a member to be fully accessible and inheritable without restrictions."
   ]
  },
  {
   "cell_type": "markdown",
   "metadata": {},
   "source": [
    "#  5. What is the purpose of the \"super\" keyword in inheritance? Provide an example.\n",
    "Ans) In object-oriented programming, the `super` keyword is used to refer to the parent class or superclass of the current derived class. It provides a way to access and call methods or constructors defined in the parent class, allowing for code reuse, method overriding, and customization in inheritance hierarchies. The `super` keyword is particularly useful when you want to extend the functionality of a method in a derived class while still utilizing the implementation of the same method in the parent class."
   ]
  },
  {
   "cell_type": "code",
   "execution_count": 2,
   "metadata": {},
   "outputs": [
    {
     "name": "stdout",
     "output_type": "stream",
     "text": [
      "Buddy says: Woof!\n",
      "Whiskers says: Meow!\n"
     ]
    }
   ],
   "source": [
    "class Animal:\n",
    "    def __init__(self, name):\n",
    "        self.name = name\n",
    "\n",
    "    def make_sound(self):\n",
    "        pass\n",
    "\n",
    "\n",
    "class Dog(Animal):\n",
    "    def __init__(self, name, breed):\n",
    "        super().__init__(name)  # Call the constructor of the parent class\n",
    "        self.breed = breed\n",
    "\n",
    "    def make_sound(self):\n",
    "        return \"Woof!\"\n",
    "\n",
    "\n",
    "class Cat(Animal):\n",
    "    def __init__(self, name, color):\n",
    "        super().__init__(name)  # Call the constructor of the parent class\n",
    "        self.color = color\n",
    "\n",
    "    def make_sound(self):\n",
    "        return \"Meow!\"\n",
    "\n",
    "\n",
    "# Create instances of the derived classes\n",
    "dog = Dog(\"Buddy\", \"Golden Retriever\")\n",
    "cat = Cat(\"Whiskers\", \"Calico\")\n",
    "\n",
    "# Call methods using the super keyword\n",
    "print(dog.name + \" says: \" + dog.make_sound())\n",
    "print(cat.name + \" says: \" + cat.make_sound())"
   ]
  },
  {
   "cell_type": "markdown",
   "metadata": {},
   "source": [
    "# 6. Create a base class called \"Vehicle\" with attributes like \"make\", \"model\", and \"year\". Then, create a derived class called \"Car\" that inherits from \"Vehicle\" and adds an attribute called \"fuel_type\". Implement appropriate methods in both classes."
   ]
  },
  {
   "cell_type": "code",
   "execution_count": 3,
   "metadata": {},
   "outputs": [
    {
     "name": "stdout",
     "output_type": "stream",
     "text": [
      "Make: Toyota, Model: Camry, Year: 2022, Fuel Type: Gasoline\n",
      "Make: Tesla, Model: Model S, Year: 2023, Fuel Type: Electric\n"
     ]
    }
   ],
   "source": [
    "class Vehicle:\n",
    "    def __init__(self, make, model, year):\n",
    "        self.make = make\n",
    "        self.model = model\n",
    "        self.year = year\n",
    "\n",
    "    def display_info(self):\n",
    "        return f\"Make: {self.make}, Model: {self.model}, Year: {self.year}\"\n",
    "\n",
    "\n",
    "class Car(Vehicle):\n",
    "    def __init__(self, make, model, year, fuel_type):\n",
    "        super().__init__(make, model, year)\n",
    "        self.fuel_type = fuel_type\n",
    "\n",
    "    def display_info(self):\n",
    "        # Call the display_info() method of the parent class\n",
    "        base_info = super().display_info()\n",
    "        return f\"{base_info}, Fuel Type: {self.fuel_type}\"\n",
    "\n",
    "car1 = Car(\"Toyota\", \"Camry\", 2022, \"Gasoline\")\n",
    "car2 = Car(\"Tesla\", \"Model S\", 2023, \"Electric\")\n",
    "\n",
    "# Display information about the vehicles\n",
    "print(car1.display_info())\n",
    "print(car2.display_info())"
   ]
  },
  {
   "cell_type": "markdown",
   "metadata": {},
   "source": [
    "# 7. Create a base class called \"Employee\" with attributes like \"name\" and \"salary.\" Derive two classes, \"Manager\" and \"Developer,\" from \"Employee.\" Add an additional attribute called \"department\" for the \"Manager\" class and \"programming_language\" for the \"Developer\" class."
   ]
  },
  {
   "cell_type": "code",
   "execution_count": 11,
   "metadata": {},
   "outputs": [
    {
     "name": "stdout",
     "output_type": "stream",
     "text": [
      "Name : Asrar, Salary : $20000 , Programming language : Python\n",
      "Name : Abrar, Salary : $30000 , Department : Software management\n"
     ]
    }
   ],
   "source": [
    "class Employee:\n",
    "    def __init__(self, name, salary):\n",
    "        self.name = name\n",
    "        self.salary = salary\n",
    "    def display_info(self):\n",
    "        return f'Name : {self.name}, Salary : ${self.salary} '\n",
    "\n",
    "class Manager(Employee):\n",
    "    def __init__(self, name, salary,department):\n",
    "        super().__init__(name, salary)\n",
    "        self.department = department\n",
    "    def display_info(self):\n",
    "        base_info = super().display_info()\n",
    "        return f'{base_info}, Department : {self.department}'\n",
    "\n",
    "class Developer(Employee):\n",
    "    def __init__(self, name, salary, programming_language):\n",
    "        super().__init__(name, salary)\n",
    "        self.programming_language = programming_language\n",
    "    def display_info(self):\n",
    "        base_info = super().display_info()\n",
    "        return f'{base_info}, Programming language : {self.programming_language}'\n",
    "\n",
    "developer = Developer('Asrar',20000, 'Python')\n",
    "manager = Manager(\"Abrar\",30000, 'Software management')\n",
    "\n",
    "print(developer.display_info())\n",
    "print(manager.display_info())"
   ]
  },
  {
   "cell_type": "markdown",
   "metadata": {},
   "source": [
    "# 8. Design a base class called \"Shape\" with attributes like \"colour\" and \"border_width.\" Create derived classes, \"Rectangle\" and \"Circle,\" that inherit from \"Shape\" and add specific attributes like \"length\" and \"width\" for the \"Rectangle\" class and \"radius\" for the \"Circle\" class."
   ]
  },
  {
   "cell_type": "code",
   "execution_count": 12,
   "metadata": {},
   "outputs": [
    {
     "name": "stdout",
     "output_type": "stream",
     "text": [
      "Colour: Blue, Border Width: 2, Length: 10, Width: 8\n",
      "Colour: Red, Border Width: 1, Radius: 5\n"
     ]
    }
   ],
   "source": [
    "class Shape:\n",
    "    def __init__(self, colour, border_width):\n",
    "        self.colour = colour\n",
    "        self.border_width = border_width\n",
    "\n",
    "    def display_info(self):\n",
    "        return f\"Colour: {self.colour}, Border Width: {self.border_width}\"\n",
    "\n",
    "class Rectangle(Shape):\n",
    "    def __init__(self, colour, border_width, length, width):\n",
    "        super().__init__(colour, border_width)  # Call the constructor of the parent class\n",
    "        self.length = length\n",
    "        self.width = width\n",
    "\n",
    "    def display_info(self):\n",
    "        base_info = super().display_info()  # Call the display_info() method of the parent class\n",
    "        return f\"{base_info}, Length: {self.length}, Width: {self.width}\"\n",
    "\n",
    "class Circle(Shape):\n",
    "    def __init__(self, colour, border_width, radius):\n",
    "        super().__init__(colour, border_width)  # Call the constructor of the parent class\n",
    "        self.radius = radius\n",
    "\n",
    "    def display_info(self):\n",
    "        base_info = super().display_info()  # Call the display_info() method of the parent class\n",
    "        return f\"{base_info}, Radius: {self.radius}\"\n",
    "\n",
    "# Create instances of the derived classes\n",
    "rectangle = Rectangle(\"Blue\", 2, 10, 8)\n",
    "circle = Circle(\"Red\", 1, 5)\n",
    "\n",
    "# Display information about the shapes\n",
    "print(rectangle.display_info())\n",
    "print(circle.display_info())\n"
   ]
  },
  {
   "cell_type": "markdown",
   "metadata": {},
   "source": [
    "# 9. Create a base class called \"Device\" with attributes like \"brand\" and \"model.\" Derive two classes, \"Phone\" and \"Tablet,\" from \"Device.\" Add specific attributes like \"screen_size\" for the \"Phone\" class and \"battery_capacity\" for the \"Tablet\" class. "
   ]
  },
  {
   "cell_type": "code",
   "execution_count": 13,
   "metadata": {},
   "outputs": [
    {
     "name": "stdout",
     "output_type": "stream",
     "text": [
      "Brand: Apple, Model: iPhone 12, Screen Size: 6.1 inches\n",
      "Brand: Samsung, Model: Galaxy Tab S7, Battery Capacity: 8000 mAh\n"
     ]
    }
   ],
   "source": [
    "class Device:\n",
    "    def __init__(self, brand, model):\n",
    "        self.brand = brand\n",
    "        self.model = model\n",
    "\n",
    "    def display_info(self):\n",
    "        return f\"Brand: {self.brand}, Model: {self.model}\"\n",
    "\n",
    "class Phone(Device):\n",
    "    def __init__(self, brand, model, screen_size):\n",
    "        super().__init__(brand, model)\n",
    "        self.screen_size = screen_size\n",
    "\n",
    "    def display_info(self):\n",
    "        base_info = super().display_info()\n",
    "        return f\"{base_info}, Screen Size: {self.screen_size}\"\n",
    "\n",
    "class Tablet(Device):\n",
    "    def __init__(self, brand, model, battery_capacity):\n",
    "        super().__init__(brand, model)\n",
    "        self.battery_capacity = battery_capacity\n",
    "\n",
    "    def display_info(self):\n",
    "        base_info = super().display_info()\n",
    "        return f\"{base_info}, Battery Capacity: {self.battery_capacity}\"\n",
    "\n",
    "# Create instances of the derived classes\n",
    "phone = Phone(\"Apple\", \"iPhone 12\", \"6.1 inches\")\n",
    "tablet = Tablet(\"Samsung\", \"Galaxy Tab S7\", \"8000 mAh\")\n",
    "\n",
    "# Display information about the devices\n",
    "print(phone.display_info())\n",
    "print(tablet.display_info())"
   ]
  },
  {
   "cell_type": "markdown",
   "metadata": {},
   "source": [
    "# 10. Create a base class called \"BankAccount\" with attributes like \"account_number\" and \"balance.\" Derive two classes, \"SavingsAccount\" and \"CheckingAccount,\" from \"BankAccount.\" Add specific methods like \"calculate_interest\" for the \"SavingsAccount\" class and \"deduct_fees\" for the \"CheckingAccount\" class."
   ]
  },
  {
   "cell_type": "code",
   "execution_count": 14,
   "metadata": {},
   "outputs": [
    {
     "name": "stdout",
     "output_type": "stream",
     "text": [
      "Account Number: 123456, Balance: $1025.00\n",
      "Fees of $20.00 deducted. New balance: $480.00\n",
      "Account Number: 987654, Balance: $480.00\n"
     ]
    }
   ],
   "source": [
    "class BankAccount:\n",
    "    def __init__(self, account_number, balance):\n",
    "        self.account_number = account_number\n",
    "        self.balance = balance\n",
    "\n",
    "    def display_info(self):\n",
    "        return f\"Account Number: {self.account_number}, Balance: ${self.balance:.2f}\"\n",
    "\n",
    "class SavingsAccount(BankAccount):\n",
    "    def calculate_interest(self, rate):\n",
    "        interest = self.balance * rate / 100\n",
    "        self.balance += interest\n",
    "\n",
    "class CheckingAccount(BankAccount):\n",
    "    def deduct_fees(self, fee):\n",
    "        if self.balance >= fee:\n",
    "            self.balance -= fee\n",
    "            print(f\"Fees of ${fee:.2f} deducted. New balance: ${self.balance:.2f}\")\n",
    "        else:\n",
    "            print(\"Insufficient balance to deduct fees.\")\n",
    "\n",
    "# Create instances of the derived classes\n",
    "savings = SavingsAccount(\"123456\", 1000.0)\n",
    "checking = CheckingAccount(\"987654\", 500.0)\n",
    "\n",
    "# Calculate interest for savings account\n",
    "savings.calculate_interest(2.5)\n",
    "print(savings.display_info())\n",
    "\n",
    "# Deduct fees for checking account\n",
    "checking.deduct_fees(20)\n",
    "print(checking.display_info())"
   ]
  }
 ],
 "metadata": {
  "kernelspec": {
   "display_name": "Python 3",
   "language": "python",
   "name": "python3"
  },
  "language_info": {
   "codemirror_mode": {
    "name": "ipython",
    "version": 3
   },
   "file_extension": ".py",
   "mimetype": "text/x-python",
   "name": "python",
   "nbconvert_exporter": "python",
   "pygments_lexer": "ipython3",
   "version": "3.11.4"
  },
  "orig_nbformat": 4
 },
 "nbformat": 4,
 "nbformat_minor": 2
}
