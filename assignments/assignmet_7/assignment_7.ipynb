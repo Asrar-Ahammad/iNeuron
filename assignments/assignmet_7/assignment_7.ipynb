{
 "cells": [
  {
   "attachments": {},
   "cell_type": "markdown",
   "metadata": {},
   "source": [
    "# Q1. Create two int type variables, apply addition, subtraction, division and multiplications and store the results in variables. Then print the data in the following format by calling the variables:\n",
    "First variable is __ & second variable is __. <br>Addition: __ + __ = __ <br>Subtraction: __ - __ = __ <br>Multiplication: __ * __ = __ <br>Division: __ / __ = __"
   ]
  },
  {
   "cell_type": "code",
   "execution_count": 1,
   "metadata": {},
   "outputs": [
    {
     "name": "stdout",
     "output_type": "stream",
     "text": [
      "First number is 25 & Second number in 13.\n",
      "Addition:25 + 13 = 38\n",
      "Subtraction: 25 - 13 = 12\n",
      "Multiplication: 25 * 13 = 325 \n",
      "Division: 25 / 13 = 1.9230769230769231\n"
     ]
    }
   ],
   "source": [
    "first_number = int(input('Enter first number: '))\n",
    "second_number = int(input('Enter second number: '))\n",
    "add = first_number+second_number\n",
    "sub = first_number-second_number\n",
    "mul = first_number*second_number\n",
    "div = first_number/second_number\n",
    "print(f'First number is {first_number} & Second number in {second_number}.')\n",
    "print(f'Addition:{first_number} + {second_number} = {add}')\n",
    "print(f'Subtraction: {first_number} - {second_number} = {sub}')\n",
    "print(f'Multiplication: {first_number} * {second_number} = {mul} ')\n",
    "print(f'Division: {first_number} / {second_number} = {div}')"
   ]
  },
  {
   "attachments": {},
   "cell_type": "markdown",
   "metadata": {},
   "source": [
    "# Q2. What is the difference between the following operators: \n",
    "(i) ‘/’ & ‘//’ <br>(ii) ‘**’ & ‘^’<br>\n",
    "**Ans)** (i) `/` is a division operator which gives decimal values after divisio if there are any. where as `//` is called floor division it divides the left operand by the right operand and returns the largest integer less than or equal to the quotient<br>(ii) `**` is exponention operator in python. It raises left operand to the power of right operand."
   ]
  },
  {
   "cell_type": "code",
   "execution_count": 2,
   "metadata": {},
   "outputs": [
    {
     "name": "stdout",
     "output_type": "stream",
     "text": [
      " / operand result is 1.6666666666666667\n",
      " // operand result is 1\n"
     ]
    }
   ],
   "source": [
    "# i\n",
    "num1 = 5\n",
    "num2 = 3\n",
    "print(f' / operand result is {num1/num2}')\n",
    "print(f' // operand result is {num1//num2}')"
   ]
  },
  {
   "cell_type": "code",
   "execution_count": 3,
   "metadata": {},
   "outputs": [
    {
     "name": "stdout",
     "output_type": "stream",
     "text": [
      "* operand result is 15\n",
      "^ operand result is 6\n"
     ]
    }
   ],
   "source": [
    "# ii\n",
    "print(f'* operand result is {num1 * num2}')\n",
    "print(f'^ operand result is {num1 ^ num2}')"
   ]
  },
  {
   "attachments": {},
   "cell_type": "markdown",
   "metadata": {},
   "source": [
    "# Q4. Logical operators in python :\n",
    "1. **AND:** The `and` operator returns `True` if both operands are `True`, otherwise it returns `False`. It performs a **logical AND** operation.\n",
    "2. **OR:** The `or` operator returns `True` if at least one of the operands is `True`, otherwise it returns `False`. It performs a **logical OR** operation.\n",
    "3. **NOT:** The `not` operator is a unary operator that returns the opposite of the operand's boolean value. It negates the boolean value."
   ]
  },
  {
   "attachments": {},
   "cell_type": "markdown",
   "metadata": {},
   "source": [
    "# Q5. Create a list containing int type data of length 15. Then write a code to check if 10 is present in the list or not."
   ]
  },
  {
   "cell_type": "code",
   "execution_count": 4,
   "metadata": {},
   "outputs": [
    {
     "name": "stdout",
     "output_type": "stream",
     "text": [
      "10 is present in the list.\n"
     ]
    }
   ],
   "source": [
    "# Create a list of length 15 with integer values\n",
    "my_list = [1, 5, 8, 10, 15, 20, 25, 30, 35, 40, 45, 50, 55, 60, 65]\n",
    "\n",
    "# Check if 10 is present in the list\n",
    "if 10 in my_list:\n",
    "    print(\"10 is present in the list.\")\n",
    "else:\n",
    "    print(\"10 is not present in the list.\")"
   ]
  }
 ],
 "metadata": {
  "kernelspec": {
   "display_name": "TensorFlowPractice",
   "language": "python",
   "name": "python3"
  },
  "language_info": {
   "codemirror_mode": {
    "name": "ipython",
    "version": 3
   },
   "file_extension": ".py",
   "mimetype": "text/x-python",
   "name": "python",
   "nbconvert_exporter": "python",
   "pygments_lexer": "ipython3",
   "version": "3.10.11"
  },
  "orig_nbformat": 4
 },
 "nbformat": 4,
 "nbformat_minor": 2
}
