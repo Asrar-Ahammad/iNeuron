{
 "cells": [
  {
   "attachments": {},
   "cell_type": "markdown",
   "metadata": {},
   "source": [
    "# Assignment 1"
   ]
  },
  {
   "attachments": {},
   "cell_type": "markdown",
   "metadata": {},
   "source": [
    "## 1. In the below elements which of them are values or an expression? eg:- values can be integer or string and expressions will be mathematical operators.\n",
    "* \n",
    "'hello'\n",
    "-87.8\n",
    "- \n",
    "/ \n",
    "+\n",
    "6 "
   ]
  },
  {
   "attachments": {},
   "cell_type": "markdown",
   "metadata": {},
   "source": [
    "Ans)Expressions :  *, -, / ,+<br>\n",
    "    values : ‘hello’, -87.8, 6"
   ]
  },
  {
   "attachments": {},
   "cell_type": "markdown",
   "metadata": {},
   "source": [
    "## 2. What is the difference between string and variable?\n",
    "Ans ) A string is a datatype in python where as a variable is a name allocated to a memory location to store data of different types like string, integer, etc."
   ]
  },
  {
   "attachments": {},
   "cell_type": "markdown",
   "metadata": {},
   "source": [
    "## 3.Describe three different data types.\n",
    "Ans )\n",
    "* Integer : It is a numeric value which can be either negative or positive. Mathematical operations an be performed on integer datatype.\n",
    "* Float : It is a numeric datatype which has decimal values i.e the values after point in the number. It can store values up to 4 decimal places after point.\n",
    "* Double : It is a numeric datatype which has decimal values and it can store value up to 6 decimal places after point.\n",
    "* String : It is a datatype mainly used to store English alphabets. It can also store numbers but mathematical operations cannot be performed on them."
   ]
  },
  {
   "attachments": {},
   "cell_type": "markdown",
   "metadata": {},
   "source": [
    "## 4.What is an expression made up of? What do all expressions do?\n",
    "Ans) Expressions are made of symbols like ==, +, - ,/, * . They are used to solve computational problems like addition , subtractions, multiplication , division. They can also be used to compare two or more values."
   ]
  },
  {
   "attachments": {},
   "cell_type": "markdown",
   "metadata": {},
   "source": [
    "## 5.This assignment statements, like spam = 10. What is the difference between an expression and a statement?\n",
    "Ans ) Here statement spam=10. The value of 10 is assigned to the variable named spam. Where an expression is which we perform an operation on the variable."
   ]
  },
  {
   "attachments": {},
   "cell_type": "markdown",
   "metadata": {},
   "source": [
    "## 6. After running the following code, what does the variable bacon contain?\n",
    "bacon = 22\n",
    "bacon + 1\n",
    "Ans ) bacon=22 .The value is incremented by 1 but not assigned to variable. So the value will be unchanged."
   ]
  },
  {
   "attachments": {},
   "cell_type": "markdown",
   "metadata": {},
   "source": [
    "## 7. What should the values of the following two terms be?\n",
    "'spam' + 'spamspam'\n",
    "'spam' * 3<br>\n",
    "Ans ) `‘spam’+’spamspam’ = 'spamspamspam'`<br>\n",
    "\t   `‘spam’ * 3 = 'spamspamspam'`"
   ]
  },
  {
   "attachments": {},
   "cell_type": "markdown",
   "metadata": {},
   "source": [
    "## 8.Why is eggs a valid variable name while 100 is invalid?\n",
    "Ans) There are set of rules in declaring a variable name. A variable name cannot be a number or it cannot start with number. So egg is a valid variable name and 100 is not."
   ]
  },
  {
   "attachments": {},
   "cell_type": "markdown",
   "metadata": {},
   "source": [
    "## 9.What three functions can be used to get the integer, floating-point number, or string version of a value?\n",
    "Ans) `for integer : int()`<br>\n",
    "\t`for floating point : float()` <br>\n",
    "\t`for string : str()<br>`"
   ]
  },
  {
   "attachments": {},
   "cell_type": "markdown",
   "metadata": {},
   "source": [
    "## 10. Why does this expression cause an error? How can you fix it?\n",
    "'I have eaten ' + 99 + ' burritos.'<br>\n",
    "Ans) It causes error because a string cannot be directly concatenated with a integer it first need to be converted into string datatype. It can be fixed by  `'I have eaten ' + str(99) + ' burritos.'`"
   ]
  }
 ],
 "metadata": {
  "language_info": {
   "name": "python"
  },
  "orig_nbformat": 4
 },
 "nbformat": 4,
 "nbformat_minor": 2
}
