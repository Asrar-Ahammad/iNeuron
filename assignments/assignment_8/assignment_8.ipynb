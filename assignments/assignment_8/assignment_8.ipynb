{
 "cells": [
  {
   "attachments": {},
   "cell_type": "markdown",
   "metadata": {},
   "source": [
    "# Assignment-8 (10th June)"
   ]
  },
  {
   "attachments": {},
   "cell_type": "markdown",
   "metadata": {},
   "source": [
    "## 1. In Python, what is the difference between a built-in function and a user-defined function? Provide an example of each.\n",
    "Ans) Built-in functions are the functions that are pre defined in python which can be directly called without decleration. User defined are the function that need to be declared before using them. User defined funtions are the functions that can be customized according to the need of the user."
   ]
  },
  {
   "cell_type": "code",
   "execution_count": 1,
   "metadata": {},
   "outputs": [
    {
     "name": "stdout",
     "output_type": "stream",
     "text": [
      "Inbuilt function:\n",
      "print()\n",
      "User defined functions:\n",
      "Result: 5\n"
     ]
    }
   ],
   "source": [
    "# Inbuilt function\n",
    "print(\"Inbuilt function:\")\n",
    "print(\"print()\")\n",
    "# User defined function\n",
    "print(\"User defined functions:\")\n",
    "def add(x,y):\n",
    "    return x+y\n",
    "sum = add(2,3)\n",
    "print(\"Result:\",sum)"
   ]
  },
  {
   "attachments": {},
   "cell_type": "markdown",
   "metadata": {},
   "source": [
    "## 2. How can you pass arguments to a function in Python? Explain the difference between positional arguments and keyword arguments.\n",
    "Ans) **Positional Arguments:**\n",
    "Positional arguments are the most basic way to pass arguments to a function. When using positional arguments, the order in which you pass the arguments to the function matters. The function definition specifies the number and order of expected arguments, and you need to provide the corresponding values in the same order when calling the function.\n",
    "\n",
    "Here's an example of a function that takes two positional arguments:"
   ]
  },
  {
   "cell_type": "code",
   "execution_count": 2,
   "metadata": {},
   "outputs": [
    {
     "name": "stdout",
     "output_type": "stream",
     "text": [
      "Hello, Alice! How are you?\n"
     ]
    }
   ],
   "source": [
    "def greet(name, message):\n",
    "    print(f\"Hello, {name}! {message}\")\n",
    "\n",
    "greet(\"Alice\", \"How are you?\")  # Output: Hello, Alice! How are you?"
   ]
  },
  {
   "attachments": {},
   "cell_type": "markdown",
   "metadata": {},
   "source": [
    "**Keyword arguments:** Keyword arguments allow you to pass arguments to a function by explicitly mentioning the parameter names along with their corresponding values. This way, you don't have to worry about the order of the arguments.\n",
    "\n",
    "Here's an example using keyword arguments:"
   ]
  },
  {
   "cell_type": "code",
   "execution_count": 3,
   "metadata": {},
   "outputs": [
    {
     "name": "stdout",
     "output_type": "stream",
     "text": [
      "Hello, Bob! Nice to meet you!\n"
     ]
    }
   ],
   "source": [
    "def greet(name, message):\n",
    "    print(f\"Hello, {name}! {message}\")\n",
    "\n",
    "greet(name=\"Bob\", message=\"Nice to meet you!\")  # Output: Hello, Bob! Nice to meet you!"
   ]
  },
  {
   "attachments": {},
   "cell_type": "markdown",
   "metadata": {},
   "source": [
    "## 3. What is the purpose of the return statement in a function? Can a function have multiple return statements? Explain with an example.\n",
    "Ans) The return statement in a function is used to specify the value that the function should output or \"return\" to the caller. It allows a function to compute a value and provide it back to the part of the code that called the function.\n",
    "\n",
    "The primary purpose of the return statement is to terminate the execution of the function and pass the result (value) back to the caller. Once a return statement is encountered, the function immediately exits, and any code following the return statement within the function is not executed.\n",
    "\n",
    "A function can indeed have multiple return statements. The execution of a function can take different paths based on conditions or logic within the function, and each path may produce a different value to be returned.\n",
    "\n",
    "Here's an example to illustrate a function with multiple return statements:"
   ]
  },
  {
   "cell_type": "code",
   "execution_count": 4,
   "metadata": {},
   "outputs": [
    {
     "name": "stdout",
     "output_type": "stream",
     "text": [
      "5.0\n",
      "Error: Cannot divide by zero\n"
     ]
    }
   ],
   "source": [
    "def divide(a, b):\n",
    "    if b == 0:\n",
    "        return \"Error: Cannot divide by zero\"\n",
    "    else:\n",
    "        return a / b\n",
    "\n",
    "result1 = divide(10, 2)\n",
    "print(result1)  # Output: 5.0\n",
    "\n",
    "result2 = divide(10, 0)\n",
    "print(result2)  # Output: Error: Cannot divide by zero"
   ]
  },
  {
   "attachments": {},
   "cell_type": "markdown",
   "metadata": {},
   "source": [
    "## 4. What are lambda functions in Python? How are they different from regular functions? Provide an example where a lambda function can be useful.\n",
    "Ans) Lambda functions, also known as anonymous functions, are a way to define and use small, one-line functions without the need for a formal function definition. They are typically used in situations where a small function is required, and defining a named function would be unnecessary or cumbersome.\n",
    "\n",
    "Here are some key characteristics and differences between `lambda` functions and regular functions in Python:\n",
    "\n",
    "**Syntax:** Lambda functions are defined using the `lambda` keyword, followed by a list of parameters, a colon `(:)`, and an expression. The result of the expression is automatically returned as the output of the lambda function. In contrast, regular functions are defined using the `def` keyword, followed by the function name, a list of parameters enclosed in parentheses, a colon `(:)`, and a block of code.\n",
    "\n",
    "**Nameless Functions:** Lambda functions are anonymous, meaning they don't have a formal name associated with them. They are created and used inline, typically as part of a larger expression or function call. Regular functions, on the other hand, have a name assigned to them, allowing them to be reused and referenced elsewhere in the code.\n",
    "\n",
    "**Function Size:** Lambda functions are often concise and limited to a single expression. They are not designed for complex logic or multiple statements. In contrast, regular functions can have multiple statements, control flow structures, and more complex logic.\n",
    "\n",
    "**Object Type:** Lambda functions create function objects, just like regular functions. However, due to their anonymous nature, lambda functions are usually used as function objects that are immediately invoked or passed as arguments to higher-order functions.\n",
    "\n",
    "Here's an example to illustrate the use of a lambda function:"
   ]
  },
  {
   "cell_type": "code",
   "execution_count": 5,
   "metadata": {},
   "outputs": [
    {
     "name": "stdout",
     "output_type": "stream",
     "text": [
      "[('orange', 5), ('banana', 8), ('apple', 10)]\n",
      "[2, 4, 6, 8, 10]\n"
     ]
    }
   ],
   "source": [
    "# Example 1: Sorting a list of tuples based on the second element\n",
    "\n",
    "fruits = [('apple', 10), ('orange', 5), ('banana', 8)]\n",
    "sorted_fruits = sorted(fruits, key=lambda x: x[1])\n",
    "print(sorted_fruits)\n",
    "# Output: [('orange', 5), ('banana', 8), ('apple', 10)]\n",
    "\n",
    "# Example 2: Doubling each element in a list using map() and lambda\n",
    "\n",
    "numbers = [1, 2, 3, 4, 5]\n",
    "doubled_numbers = list(map(lambda x: x * 2, numbers))\n",
    "print(doubled_numbers)\n",
    "# Output: [2, 4, 6, 8, 10]\n"
   ]
  },
  {
   "attachments": {},
   "cell_type": "markdown",
   "metadata": {},
   "source": [
    "## 5. How does the concept of \"scope\" apply to functions in Python? Explain the difference between local scope and global scope.\n",
    "Ans) In Python, the concept of \"scope\" refers to the region or context in which a variable, function, or object is defined and can be accessed. Scopes determine the visibility and lifetime of variables, meaning where they can be referenced and how long they exist in memory.\n",
    "1. Local Scope:\n",
    "Local scope refers to the innermost scope, typically defined within a function or a code block. Variables declared within a local scope are only accessible within that specific scope, and they cease to exist once the scope is exited.\n",
    "\n",
    "Here's an example to illustrate local scope:"
   ]
  },
  {
   "cell_type": "code",
   "execution_count": 6,
   "metadata": {},
   "outputs": [
    {
     "name": "stdout",
     "output_type": "stream",
     "text": [
      "10\n"
     ]
    },
    {
     "ename": "NameError",
     "evalue": "name 'x' is not defined",
     "output_type": "error",
     "traceback": [
      "\u001b[0;31m---------------------------------------------------------------------------\u001b[0m",
      "\u001b[0;31mNameError\u001b[0m                                 Traceback (most recent call last)",
      "Cell \u001b[0;32mIn[6], line 6\u001b[0m\n\u001b[1;32m      3\u001b[0m     \u001b[39mprint\u001b[39m(x)\n\u001b[1;32m      5\u001b[0m my_function()  \u001b[39m# Output: 10\u001b[39;00m\n\u001b[0;32m----> 6\u001b[0m \u001b[39mprint\u001b[39m(x)  \u001b[39m# Error: NameError: name 'x' is not defined\u001b[39;00m\n",
      "\u001b[0;31mNameError\u001b[0m: name 'x' is not defined"
     ]
    }
   ],
   "source": [
    "def my_function():\n",
    "    x = 10  # Local variable\n",
    "    print(x)\n",
    "\n",
    "my_function()  # Output: 10\n",
    "print(x)  # Error: NameError: name 'x' is not defined"
   ]
  },
  {
   "attachments": {},
   "cell_type": "markdown",
   "metadata": {},
   "source": [
    "2. Global Scope:\n",
    "Global scope refers to the outermost scope of a Python program or module. Variables declared outside any functions or code blocks have global scope and can be accessed from anywhere within the program.\n",
    "\n",
    "Here's an example to illustrate global scope:"
   ]
  },
  {
   "cell_type": "code",
   "execution_count": 7,
   "metadata": {},
   "outputs": [
    {
     "name": "stdout",
     "output_type": "stream",
     "text": [
      "20\n",
      "20\n"
     ]
    }
   ],
   "source": [
    "y = 20  # Global variable\n",
    "\n",
    "def my_function():\n",
    "    print(y)\n",
    "\n",
    "my_function()  # Output: 20\n",
    "print(y)  # Output: 20\n"
   ]
  },
  {
   "attachments": {},
   "cell_type": "markdown",
   "metadata": {},
   "source": [
    "## 6. How can you use the \"return\" statement in a Python function to return multiple values?\n",
    "Ans) In Python, you can use the `return` statement in a function to return multiple values by separating them with commas. There are a couple of ways to achieve this:<br>\n",
    "**Returning a Tuple:** One common approach is to return a tuple containing multiple values. A tuple is an ordered collection of items, enclosed in parentheses. By returning a tuple, you can effectively return multiple values as a single entity.\n",
    "\n",
    "Here's an example:"
   ]
  },
  {
   "cell_type": "code",
   "execution_count": 8,
   "metadata": {},
   "outputs": [
    {
     "name": "stdout",
     "output_type": "stream",
     "text": [
      "('Alice', 25)\n",
      "Alice\n",
      "25\n"
     ]
    }
   ],
   "source": [
    "def get_name_and_age():\n",
    "    name = \"Alice\"\n",
    "    age = 25\n",
    "    return name, age\n",
    "\n",
    "result = get_name_and_age()\n",
    "print(result)  # Output: ('Alice', 25)\n",
    "print(result[0])  # Output: Alice\n",
    "print(result[1])  # Output: 25"
   ]
  },
  {
   "attachments": {},
   "cell_type": "markdown",
   "metadata": {},
   "source": [
    "## 7. What is the difference between the \"pass by value\" and \"pass by reference\" concepts when it comes to function arguments in Python?\n",
    "1. Pass by Value:\n",
    "In a language that uses pass by value, when a function is called, the values of the actual arguments (or parameters) are copied into the function's formal parameters. Any modifications made to the formal parameters within the function do not affect the original values passed as arguments.\n",
    "\n",
    "Here's an example to illustrate pass by value:"
   ]
  },
  {
   "cell_type": "code",
   "execution_count": 9,
   "metadata": {},
   "outputs": [
    {
     "name": "stdout",
     "output_type": "stream",
     "text": [
      "5\n",
      "6\n"
     ]
    }
   ],
   "source": [
    "def increment(x):\n",
    "    x += 1\n",
    "    return x\n",
    "\n",
    "num = 5\n",
    "new_num = increment(num)\n",
    "print(num)      # Output: 5\n",
    "print(new_num)  # Output: 6"
   ]
  },
  {
   "attachments": {},
   "cell_type": "markdown",
   "metadata": {},
   "source": [
    "2. Pass by Reference (or Pass by Sharing):\n",
    "In a language that uses pass by reference (or pass by sharing), when a function is called, a reference to the actual arguments (or parameters) is passed to the function. Any modifications made to the formal parameters within the function directly affect the original values passed as arguments.\n",
    "<br>Here's an example for pass by refernce:"
   ]
  },
  {
   "cell_type": "code",
   "execution_count": 10,
   "metadata": {},
   "outputs": [
    {
     "name": "stdout",
     "output_type": "stream",
     "text": [
      "[1, 2, 3, 4]\n"
     ]
    }
   ],
   "source": [
    "def add_item(lst, item):\n",
    "    lst.append(item)\n",
    "\n",
    "my_list = [1, 2, 3]\n",
    "add_item(my_list, 4)\n",
    "print(my_list)  # Output: [1, 2, 3, 4]"
   ]
  },
  {
   "attachments": {},
   "cell_type": "markdown",
   "metadata": {},
   "source": [
    "## 8. Create a function that can intake integer or decimal value and do following operations:\n",
    "a. Logarithmic function (log x) <br>b. Exponential function (exp(x))<br> c. Power function with base 2 (2x) <br>d. Square root"
   ]
  },
  {
   "cell_type": "code",
   "execution_count": 11,
   "metadata": {},
   "outputs": [
    {
     "name": "stdout",
     "output_type": "stream",
     "text": [
      "0.47712125471966244\n"
     ]
    }
   ],
   "source": [
    "# Lograthmic function\n",
    "import math \n",
    "def lograthmic(num, base=10):\n",
    "    return math.log(num, base)\n",
    "\n",
    "a = lograthmic(num=3)\n",
    "print(a)"
   ]
  },
  {
   "cell_type": "code",
   "execution_count": 12,
   "metadata": {},
   "outputs": [
    {
     "name": "stdout",
     "output_type": "stream",
     "text": [
      "148.41315910257657\n"
     ]
    }
   ],
   "source": [
    "# Exponential function\n",
    "import math\n",
    "def exponential(num, base=math.e):\n",
    "    return base**num \n",
    "b = exponential(5)\n",
    "print(b)"
   ]
  },
  {
   "cell_type": "code",
   "execution_count": 13,
   "metadata": {},
   "outputs": [
    {
     "name": "stdout",
     "output_type": "stream",
     "text": [
      "8\n"
     ]
    }
   ],
   "source": [
    "# power function with base 2\n",
    "def power(num, base=2):\n",
    "    return base**num\n",
    "c = power(3)\n",
    "print(c)"
   ]
  },
  {
   "cell_type": "code",
   "execution_count": 14,
   "metadata": {},
   "outputs": [
    {
     "name": "stdout",
     "output_type": "stream",
     "text": [
      "3.1622776601683795\n"
     ]
    }
   ],
   "source": [
    "# Squareroot\n",
    "def squareroot(num):\n",
    "    return num**(1/2)\n",
    "\n",
    "d = squareroot(10)\n",
    "print(d)"
   ]
  },
  {
   "attachments": {},
   "cell_type": "markdown",
   "metadata": {},
   "source": [
    "## 9. Create a function that takes a full name as an argument and returns first name and last name."
   ]
  },
  {
   "cell_type": "code",
   "execution_count": 15,
   "metadata": {},
   "outputs": [
    {
     "name": "stdout",
     "output_type": "stream",
     "text": [
      "First Name: Asrar\n",
      "Last Name: Ahammad\n"
     ]
    }
   ],
   "source": [
    "def get_first_and_last_name(full_name):\n",
    "    names = full_name.split()\n",
    "    first_name = names[0]\n",
    "    last_name = names[-1]\n",
    "    return first_name, last_name\n",
    "\n",
    "# Example usage\n",
    "name = \"Asrar Ahammad\"\n",
    "first, last = get_first_and_last_name(name)\n",
    "\n",
    "print(\"First Name:\", first)\n",
    "print(\"Last Name:\", last)\n"
   ]
  },
  {
   "cell_type": "code",
   "execution_count": null,
   "metadata": {},
   "outputs": [],
   "source": []
  }
 ],
 "metadata": {
  "kernelspec": {
   "display_name": "TensorFlowPractice",
   "language": "python",
   "name": "python3"
  },
  "language_info": {
   "codemirror_mode": {
    "name": "ipython",
    "version": 3
   },
   "file_extension": ".py",
   "mimetype": "text/x-python",
   "name": "python",
   "nbconvert_exporter": "python",
   "pygments_lexer": "ipython3",
   "version": "3.10.11"
  },
  "orig_nbformat": 4
 },
 "nbformat": 4,
 "nbformat_minor": 2
}
